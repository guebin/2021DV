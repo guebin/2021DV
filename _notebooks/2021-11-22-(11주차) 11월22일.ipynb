{
 "cells": [
  {
   "cell_type": "markdown",
   "id": "5bf6b68c-bdaa-4830-b39b-3098ff37d9d0",
   "metadata": {
    "tags": []
   },
   "source": [
    "# (11주차) 11월22일 \n",
    "> folium \n",
    "\n",
    "- toc:true\n",
    "- branch: master\n",
    "- badges: true\n",
    "- comments: true\n",
    "- author: 최규빈"
   ]
  },
  {
   "cell_type": "markdown",
   "id": "b3d0175a-c7f9-4eae-a8d1-b659bf4c5fa5",
   "metadata": {},
   "source": [
    "### 강의영상 "
   ]
  },
  {
   "cell_type": "markdown",
   "id": "bf4b6b98-9186-469a-849f-b0d160dcdf3b",
   "metadata": {},
   "source": [
    "> youtube: https://youtube.com/playlist?list=PLQqh36zP38-yTghRbW5NQ-bHPnBnoJwvc"
   ]
  },
  {
   "cell_type": "markdown",
   "id": "2c78d807-27a4-4251-9cea-77ede8dec29f",
   "metadata": {},
   "source": [
    "`-` (1/7) Map object (1) \n",
    "\n",
    "`-` (2/7) Map object (2) \n",
    "\n",
    "`-` (3/7) Marker (1) \n",
    "\n",
    "`-` (4/7) Marker (2)\n",
    "\n",
    "`-` (5/7) flugins (1) \n",
    "\n",
    "`-` (6/7) flugins (2) \n",
    "\n",
    "`-` (7/7) 지진자료시각화 "
   ]
  },
  {
   "cell_type": "markdown",
   "id": "16d9a78d-31d4-42ee-927f-8b162cbe7272",
   "metadata": {},
   "source": [
    "### import "
   ]
  },
  {
   "cell_type": "code",
   "execution_count": 2,
   "id": "cfd09c95-750e-47d9-bc95-8e0741c392fe",
   "metadata": {},
   "outputs": [],
   "source": [
    "import numpy as np \n",
    "import pandas as pd\n",
    "import folium"
   ]
  },
  {
   "cell_type": "markdown",
   "id": "4429ad2f-9dc9-42c3-8046-05084ccebafb",
   "metadata": {},
   "source": [
    "### folium.Map"
   ]
  },
  {
   "cell_type": "markdown",
   "id": "b3594634-9062-4fb2-8147-b59e86241af0",
   "metadata": {},
   "source": [
    "`-` global view "
   ]
  },
  {
   "cell_type": "code",
   "execution_count": 3,
   "id": "21b6ee02-ec91-48c0-80f9-37b736671fdd",
   "metadata": {},
   "outputs": [],
   "source": [
    "m=folium.Map(scrollWheelZoom=False)\n",
    "#m"
   ]
  },
  {
   "cell_type": "markdown",
   "id": "97f2e135-23d9-4e20-833f-62b841c112ad",
   "metadata": {},
   "source": [
    "`-` location과 scale을 조정하는 방법"
   ]
  },
  {
   "cell_type": "code",
   "execution_count": 4,
   "id": "f24ceabb-534e-4b77-a00b-0d43bfb30b55",
   "metadata": {},
   "outputs": [],
   "source": [
    "m=folium.Map(scrollWheelZoom=False,\n",
    "             location=[35.84676618432067, 127.12936405235232],\n",
    "             zoom_start=16)\n",
    "#m"
   ]
  },
  {
   "cell_type": "markdown",
   "id": "d863a080-6535-4f44-b76f-7559c6e7aa22",
   "metadata": {},
   "source": [
    "`-` `tiles` 옵션을 주어서 지도의 외형을 변경하여 보자.\n",
    "- \"**OpenStreetMap**\"\n",
    "- \"Stamen Terrain\", \"**Stamen Toner**\", \"Stamen Watercolor\"\n",
    "- \"**CartoDB positron**\", \"CartoDB dark_matter\""
   ]
  },
  {
   "cell_type": "code",
   "execution_count": 5,
   "id": "bbeaeeec-47dd-4ca6-a1c8-26dd3bb50969",
   "metadata": {},
   "outputs": [],
   "source": [
    "m=folium.Map(scrollWheelZoom=False,\n",
    "             location=[35.84676618432067, 127.12936405235232],\n",
    "             zoom_start=15,\n",
    "             tiles=\"CartoDB positron\")\n",
    "#m"
   ]
  },
  {
   "cell_type": "markdown",
   "id": "88d97afc-c469-4c73-9dff-460453d476bc",
   "metadata": {},
   "source": [
    "### folium.Marker "
   ]
  },
  {
   "cell_type": "markdown",
   "id": "b72ae38c-48d2-4233-9681-4767f09e6928",
   "metadata": {},
   "source": [
    "`-` 지도위에 무엇인가 오브젝트를 추가하는데, 가장 기본적인 것이 마커임 (점이라 생각해도 괜찮음) "
   ]
  },
  {
   "cell_type": "markdown",
   "id": "f5ad921b-315f-459c-9f31-8020d095997d",
   "metadata": {},
   "source": [
    "`-` 마커안에 내용을 넣을 수 있음. (경우에 따라서는 유용하다)"
   ]
  },
  {
   "cell_type": "code",
   "execution_count": 6,
   "id": "b3e5e5c2-7dde-455d-bde9-7c4437434a34",
   "metadata": {},
   "outputs": [
    {
     "data": {
      "text/plain": [
       "<folium.map.Marker at 0x7f54727532b0>"
      ]
     },
     "execution_count": 6,
     "metadata": {},
     "output_type": "execute_result"
    }
   ],
   "source": [
    "m=folium.Map(scrollWheelZoom=False,\n",
    "             location=[35.84676618432067, 127.12936405235232],\n",
    "             zoom_start=14,\n",
    "             tiles=\"CartoDB positron\")\n",
    "folium.Marker(location=[35.84676618432067, 127.12936405235232],\n",
    "              #tooltip='Click me',\n",
    "              popup='JBNU',\n",
    "              icon=folium.Icon(color='red',icon='university',prefix='fa')\n",
    "             ).add_to(m) \n",
    "\n",
    "folium.Marker(location=[35.837688889992634, 127.11212714586104],\n",
    "              #tooltip='Click me',\n",
    "              popup='HOME'              \n",
    "             ).add_to(m) \n",
    "#m"
   ]
  },
  {
   "cell_type": "markdown",
   "id": "ce2e732c-3534-472b-b5c6-6940a46caed6",
   "metadata": {},
   "source": [
    "`-` 조금 더 다양한 아이콘들을 추가하여 보자. "
   ]
  },
  {
   "cell_type": "code",
   "execution_count": 7,
   "id": "fdb2f605-eb0f-4fe1-9dbc-71dbc72f12a3",
   "metadata": {},
   "outputs": [
    {
     "data": {
      "text/plain": [
       "<folium.map.Marker at 0x7f5472753790>"
      ]
     },
     "execution_count": 7,
     "metadata": {},
     "output_type": "execute_result"
    }
   ],
   "source": [
    "m=folium.Map(scrollWheelZoom=False,\n",
    "             location=[35.84676618432067, 127.12936405235232],\n",
    "             zoom_start=14,\n",
    "             tiles=\"CartoDB positron\")\n",
    "folium.Marker(location=[35.84676618432067, 127.12936405235232],\n",
    "              #tooltip='Click me',\n",
    "              popup='JBNU',\n",
    "              icon=folium.Icon(color='red',icon='music',prefix='fa')\n",
    "             ).add_to(m) \n",
    "\n",
    "folium.Marker(location=[35.837688889992634, 127.11212714586104],\n",
    "              #tooltip='Click me',\n",
    "              popup='HOME'              \n",
    "             ).add_to(m) \n",
    "#m"
   ]
  },
  {
   "cell_type": "markdown",
   "id": "0d622000-dc8a-452d-9cce-dfbc879c5906",
   "metadata": {},
   "source": [
    "`-` `icon='university'` 대신에 쓸만한 옵션들 "
   ]
  },
  {
   "cell_type": "markdown",
   "id": "5581b33b-c762-403a-9c08-14e89a92210a",
   "metadata": {},
   "source": [
    "- icon='street-view'\n",
    "- icon='tree'\n",
    "- icon='plane'\n",
    "- icon='bell'\n",
    "- ... \n",
    "\n",
    "**https://getbootstrap.com/docs/3.3/components/**"
   ]
  },
  {
   "cell_type": "markdown",
   "id": "a7e69087-dd1c-4ef3-a09e-36db74be5ff6",
   "metadata": {},
   "source": [
    "`-` 마커에 HTML넣기"
   ]
  },
  {
   "cell_type": "code",
   "execution_count": 8,
   "id": "62b0bcf1-7c38-43c7-851c-c5f4245905ac",
   "metadata": {},
   "outputs": [
    {
     "data": {
      "text/plain": [
       "<folium.map.Marker at 0x7f54a844e340>"
      ]
     },
     "execution_count": 8,
     "metadata": {},
     "output_type": "execute_result"
    }
   ],
   "source": [
    "m=folium.Map(scrollWheelZoom=False,\n",
    "             location=[35.84676618432067, 127.12936405235232],\n",
    "             zoom_start=14,\n",
    "             tiles=\"CartoDB positron\")\n",
    "folium.Marker(location=[35.84676618432067, 127.12936405235232],\n",
    "              #tooltip='Click me',\n",
    "              popup='<h2> JBNU </h2><br>',\n",
    "              icon=folium.Icon(color='red',icon='music',prefix='fa')\n",
    "             ).add_to(m) \n",
    "\n",
    "folium.Marker(location=[35.837688889992634, 127.11212714586104],\n",
    "              #tooltip='Click me',\n",
    "              popup='<h5> HOME </h5><br>'              \n",
    "             ).add_to(m) \n",
    "#m"
   ]
  },
  {
   "cell_type": "markdown",
   "id": "c4f6ae9f-f064-456e-be51-e71bcc2b6019",
   "metadata": {},
   "source": [
    "`-` 마커에 DataFrame (을 HTML로 바꿔서) 넣기"
   ]
  },
  {
   "cell_type": "code",
   "execution_count": 10,
   "id": "73dfa514-754c-484f-af78-3b48be91768a",
   "metadata": {},
   "outputs": [
    {
     "data": {
      "text/plain": [
       "'<table border=\"1\" class=\"dataframe\">\\n  <thead>\\n    <tr style=\"text-align: right;\">\\n      <th></th>\\n      <th>Year</th>\\n      <th>Enrollment</th>\\n    </tr>\\n  </thead>\\n  <tbody>\\n    <tr>\\n      <th>0</th>\\n      <td>2019</td>\\n      <td>35</td>\\n    </tr>\\n    <tr>\\n      <th>1</th>\\n      <td>2020</td>\\n      <td>35</td>\\n    </tr>\\n    <tr>\\n      <th>2</th>\\n      <td>2021</td>\\n      <td>33</td>\\n    </tr>\\n  </tbody>\\n</table>'"
      ]
     },
     "execution_count": 10,
     "metadata": {},
     "output_type": "execute_result"
    }
   ],
   "source": [
    "df= pd.DataFrame(data=[[2019,35],[2020,35],[2021,33]],columns=['Year','Enrollment'])\n",
    "df.to_html()"
   ]
  },
  {
   "cell_type": "code",
   "execution_count": 11,
   "id": "6e9b7c8b-9021-4ebe-94a5-54998ee00c34",
   "metadata": {},
   "outputs": [
    {
     "data": {
      "text/plain": [
       "<folium.map.Marker at 0x7f547270ef10>"
      ]
     },
     "execution_count": 11,
     "metadata": {},
     "output_type": "execute_result"
    }
   ],
   "source": [
    "m=folium.Map(scrollWheelZoom=False,\n",
    "             location=[35.84676618432067, 127.12936405235232],\n",
    "             zoom_start=14,\n",
    "             tiles=\"CartoDB positron\")\n",
    "folium.Marker(location=[35.84676618432067, 127.12936405235232],\n",
    "              #tooltip='Click me',\n",
    "              popup='<h2> JBNU </h2><br>'+df.to_html(),\n",
    "              icon=folium.Icon(color='red',icon='music',prefix='fa')\n",
    "             ).add_to(m) \n",
    "\n",
    "folium.Marker(location=[35.837688889992634, 127.11212714586104],\n",
    "              #tooltip='Click me',\n",
    "              popup='<h5> HOME </h5><br>'              \n",
    "             ).add_to(m) \n",
    "#m"
   ]
  },
  {
   "cell_type": "markdown",
   "id": "8cc26e69-685d-40c3-ae61-21106e571f3c",
   "metadata": {},
   "source": [
    "`-` 논리구조상 HTML 오브젝트를 아무거나 넣을 수 있다. $\\to$ 그림도 넣을 수 있나? "
   ]
  },
  {
   "cell_type": "code",
   "execution_count": 12,
   "id": "67ad38bc-c20c-4957-8b09-1980c0f705a5",
   "metadata": {},
   "outputs": [],
   "source": [
    "import base64\n",
    "import matplotlib.pyplot as plt "
   ]
  },
  {
   "cell_type": "code",
   "execution_count": 13,
   "id": "2860c486-1965-458e-be18-2f8c2bd3f191",
   "metadata": {},
   "outputs": [
    {
     "data": {
      "image/png": "[encoded data removed]",
      "text/plain": [
       "<Figure size 432x288 with 1 Axes>"
      ]
     },
     "metadata": {
      "needs_background": "light"
     },
     "output_type": "display_data"
    }
   ],
   "source": [
    "fig = plt.figure()\n",
    "plt.plot([1,2,3,4],[2,3,4,3],'o--r')\n",
    "fig.savefig('temp.png')"
   ]
  },
  {
   "cell_type": "code",
   "execution_count": 14,
   "id": "f515b00b-3f6e-4c72-a09c-d70ebca30e02",
   "metadata": {},
   "outputs": [],
   "source": [
    "_encoded = base64.b64encode(open('temp.png','rb').read())\n",
    "_myhtml = '<img src=\"data:image/png;base64,{}\">'.format\n",
    "_iframe = folium.IFrame(_myhtml(_encoded.decode('UTF-8')),width=400,height=300)\n",
    "_popup = folium.Popup(_iframe)"
   ]
  },
  {
   "cell_type": "markdown",
   "id": "c83101b1-33b5-4b56-a073-b0a66c03fe93",
   "metadata": {},
   "source": [
    "- 인터넷에서 긁어온 코드 "
   ]
  },
  {
   "cell_type": "code",
   "execution_count": 15,
   "id": "819b619f-7112-4fe7-9141-59df7d9f533d",
   "metadata": {},
   "outputs": [
    {
     "data": {
      "text/plain": [
       "<folium.map.Marker at 0x7f5470a2b370>"
      ]
     },
     "execution_count": 15,
     "metadata": {},
     "output_type": "execute_result"
    }
   ],
   "source": [
    "m=folium.Map(scrollWheelZoom=False,\n",
    "             location=[35.84676618432067, 127.12936405235232],\n",
    "             zoom_start=13,\n",
    "             tiles=\"CartoDB positron\"\n",
    "            )\n",
    "folium.Marker(location=[35.84676618432067, 127.12936405235232],\n",
    "              #tooltip='Click me',\n",
    "              popup=_popup,\n",
    "              icon=folium.Icon(color='red',icon='music',prefix='fa')\n",
    "             ).add_to(m) \n",
    "\n",
    "folium.Marker(location=[35.837688889992634, 127.11212714586104],\n",
    "              #tooltip='Click me',\n",
    "              popup='<h5> HOME </h5><br>'              \n",
    "             ).add_to(m) \n",
    "#m"
   ]
  },
  {
   "cell_type": "markdown",
   "id": "b9c41def-fd07-43d6-a306-01531e135a97",
   "metadata": {},
   "source": [
    "### folium.CircleMarker"
   ]
  },
  {
   "cell_type": "code",
   "execution_count": 16,
   "id": "67569f7e-0ec7-4391-a8f2-e00932fd87f8",
   "metadata": {},
   "outputs": [
    {
     "data": {
      "text/plain": [
       "<folium.map.Marker at 0x7f5470a472b0>"
      ]
     },
     "execution_count": 16,
     "metadata": {},
     "output_type": "execute_result"
    }
   ],
   "source": [
    "m=folium.Map(scrollWheelZoom=False,\n",
    "             location=[35.84676618432067, 127.12936405235232],\n",
    "             zoom_start=13,\n",
    "             tiles=\"CartoDB positron\")\n",
    "folium.Marker(location=[35.84676618432067, 127.12936405235232],\n",
    "              #tooltip='Click me',\n",
    "              popup=_popup,\n",
    "              icon=folium.Icon(color='red',icon='music',prefix='fa')\n",
    "             ).add_to(m) \n",
    "\n",
    "folium.CircleMarker(location=[35.84676618432067, 127.12936405235232], \n",
    "                    radius=40,\n",
    "                    color=None,\n",
    "                    fill=True,\n",
    "                    fill_color='red',\n",
    "                    popup='JBNU').add_to(m)\n",
    "\n",
    "folium.Marker(location=[35.837688889992634, 127.11212714586104],\n",
    "              #tooltip='Click me',\n",
    "              popup='<h5> HOME </h5><br>'              \n",
    "             ).add_to(m) \n",
    "#m"
   ]
  },
  {
   "cell_type": "markdown",
   "id": "cf1519a9-3143-4c9d-a900-8e8d4a75ab2d",
   "metadata": {},
   "source": [
    "`-` 다양한 마커를 그냥 지옴처럼 생각해도 괜찮아보임 \n",
    "\n",
    "`-` 동그라미 하나 그리는데 너무 많이 노력을 하는것 같기도 함. \n",
    "\n",
    "`-` Circle이 아니라 라인, 사각형, 폴리곤등도 지도에 추가할수 있으나 더 많은 노력이 필요하다. "
   ]
  },
  {
   "cell_type": "markdown",
   "id": "8338a98e-50fc-4449-b449-32adf1a10046",
   "metadata": {},
   "source": [
    "### plugins.HeatMap"
   ]
  },
  {
   "cell_type": "markdown",
   "id": "6bfe594f-c522-406d-afbc-347321dc8234",
   "metadata": {},
   "source": [
    "`-` Heatmap은 폴리움에서 데이터 시각화를 하기에 적합한 기본도구임 "
   ]
  },
  {
   "cell_type": "code",
   "execution_count": 18,
   "id": "669a7158-cf67-4e78-8974-9d91df6d530b",
   "metadata": {
    "tags": []
   },
   "outputs": [
    {
     "data": {
      "text/plain": [
       "<folium.plugins.heat_map.HeatMap at 0x7f547270ee20>"
      ]
     },
     "execution_count": 18,
     "metadata": {},
     "output_type": "execute_result"
    }
   ],
   "source": [
    "from folium import plugins \n",
    "data=(np.random.normal(size=(100,3)) + np.array([[28,77,5]])).tolist()\n",
    "m=folium.Map([28,77],zoom_start=6,scrollWheelZoom=False)\n",
    "plugins.HeatMap(data).add_to(m) \n",
    "#m"
   ]
  },
  {
   "cell_type": "markdown",
   "id": "ede90495-05d8-44c1-8e84-902810195d8f",
   "metadata": {},
   "source": [
    "### plugins.HeatMapWithTime"
   ]
  },
  {
   "cell_type": "markdown",
   "id": "45512ee7-a682-4d68-9a76-c3373acc4222",
   "metadata": {},
   "source": [
    "`-` 입자의 위치 "
   ]
  },
  {
   "cell_type": "markdown",
   "id": "cbcf71b9-3b73-4431-a5ca-73d42254329f",
   "metadata": {},
   "source": [
    "$$\\begin{cases}\n",
    "x_t = x_{t-1} +\\epsilon_t \\\\ \n",
    "y_t = y_{t-1} +\\eta_t \n",
    "\\end{cases}$$ "
   ]
  },
  {
   "cell_type": "markdown",
   "id": "1c69c7b8-8cab-4391-8ec2-2602feef2c4d",
   "metadata": {},
   "source": [
    "단 $(x_0,y_0)=(35.837688889992634, 127.11212714586104)$ 라고 하고 $\\epsilon_t$와 $\\eta_t$는 서로 독립인 정규분포이다. "
   ]
  },
  {
   "cell_type": "markdown",
   "id": "1517117d-3bfe-42f2-858c-df8649626048",
   "metadata": {},
   "source": [
    "- 최종적인 차원: 프레임수 * 점의수 * 2 "
   ]
  },
  {
   "cell_type": "markdown",
   "id": "6bb438f3-b3a5-46bc-bad1-8416892b315a",
   "metadata": {},
   "source": [
    "#### step1: numpy"
   ]
  },
  {
   "cell_type": "code",
   "execution_count": 19,
   "id": "804ab6cb-f5e8-416c-b4a0-b915367b0cfa",
   "metadata": {},
   "outputs": [],
   "source": [
    "t0 = np.array([[35.837688889992634,127.11212714586104]]*3000)\n",
    "walk = np.random.normal(size=(200,3000,2)) * 0.0001 "
   ]
  },
  {
   "cell_type": "code",
   "execution_count": 20,
   "id": "80e7f4cb-f3ee-4c8a-937d-d6bd833e0fc1",
   "metadata": {},
   "outputs": [
    {
     "data": {
      "text/plain": [
       "array([[ 35.83768889, 127.11212715],\n",
       "       [ 35.83768889, 127.11212715],\n",
       "       [ 35.83768889, 127.11212715],\n",
       "       ...,\n",
       "       [ 35.83768889, 127.11212715],\n",
       "       [ 35.83768889, 127.11212715],\n",
       "       [ 35.83768889, 127.11212715]])"
      ]
     },
     "execution_count": 20,
     "metadata": {},
     "output_type": "execute_result"
    }
   ],
   "source": [
    "t0 # 시점0 "
   ]
  },
  {
   "cell_type": "code",
   "execution_count": 21,
   "id": "3dd4a216-ac50-4410-b9ff-729639a79b81",
   "metadata": {},
   "outputs": [
    {
     "data": {
      "text/plain": [
       "array([[ 35.83755719, 127.11227851],\n",
       "       [ 35.83765071, 127.11201433],\n",
       "       [ 35.83789666, 127.11204495],\n",
       "       ...,\n",
       "       [ 35.83768979, 127.11199086],\n",
       "       [ 35.83755687, 127.11218764],\n",
       "       [ 35.83755343, 127.11213141]])"
      ]
     },
     "execution_count": 21,
     "metadata": {},
     "output_type": "execute_result"
    }
   ],
   "source": [
    "t0+walk[0,:,:]# 시점1"
   ]
  },
  {
   "cell_type": "code",
   "execution_count": 22,
   "id": "6564ea44-00a2-41fe-92b1-64ba899c7d89",
   "metadata": {},
   "outputs": [
    {
     "data": {
      "text/plain": [
       "array([[ 35.83749504, 127.11210571],\n",
       "       [ 35.83752415, 127.11207603],\n",
       "       [ 35.83815204, 127.11198859],\n",
       "       ...,\n",
       "       [ 35.83775445, 127.11185324],\n",
       "       [ 35.83749663, 127.11216901],\n",
       "       [ 35.83735671, 127.11200109]])"
      ]
     },
     "execution_count": 22,
     "metadata": {},
     "output_type": "execute_result"
    }
   ],
   "source": [
    "t0+walk[0,:,:]+walk[1,:,:]# 시점2"
   ]
  },
  {
   "cell_type": "markdown",
   "id": "2ff04e28-5ddb-40dc-9e25-0fda86605c46",
   "metadata": {},
   "source": [
    "`-` 그런데 `walk[0,:,:]+walk[1,:,:]`를 좀더 간단하게 쓸수 있다. "
   ]
  },
  {
   "cell_type": "code",
   "execution_count": 23,
   "id": "b4ccb846-9bc9-4106-a462-1b2cf55d1fd2",
   "metadata": {},
   "outputs": [
    {
     "data": {
      "text/plain": [
       "array([[-1.93853401e-04, -2.14362201e-05],\n",
       "       [-1.64739936e-04, -5.11175119e-05],\n",
       "       [ 4.63152733e-04, -1.38557716e-04],\n",
       "       ...,\n",
       "       [ 6.55632933e-05, -2.73901961e-04],\n",
       "       [-1.92264443e-04,  4.18592999e-05],\n",
       "       [-3.32182778e-04, -1.26051762e-04]])"
      ]
     },
     "execution_count": 23,
     "metadata": {},
     "output_type": "execute_result"
    }
   ],
   "source": [
    "walk[0,:,:]+walk[1,:,:]"
   ]
  },
  {
   "cell_type": "code",
   "execution_count": 24,
   "id": "e2cc1b9f-6045-4e43-8bbf-9e6eaa303737",
   "metadata": {},
   "outputs": [
    {
     "data": {
      "text/plain": [
       "array([[-1.93853401e-04, -2.14362201e-05],\n",
       "       [-1.64739936e-04, -5.11175119e-05],\n",
       "       [ 4.63152733e-04, -1.38557716e-04],\n",
       "       ...,\n",
       "       [ 6.55632933e-05, -2.73901961e-04],\n",
       "       [-1.92264443e-04,  4.18592999e-05],\n",
       "       [-3.32182778e-04, -1.26051762e-04]])"
      ]
     },
     "execution_count": 24,
     "metadata": {},
     "output_type": "execute_result"
    }
   ],
   "source": [
    "walk[:2,:,:].sum(axis=0)"
   ]
  },
  {
   "cell_type": "markdown",
   "id": "b7c30382-6bcd-42e8-9ee8-055ba1ad6389",
   "metadata": {},
   "source": [
    "`-` 따라서 시점2는 아래와 같이 표현가능 "
   ]
  },
  {
   "cell_type": "code",
   "execution_count": 25,
   "id": "feced833-ee25-49f3-8a0a-4d0a94627ab8",
   "metadata": {},
   "outputs": [
    {
     "data": {
      "text/plain": [
       "array([[ 35.83749504, 127.11210571],\n",
       "       [ 35.83752415, 127.11207603],\n",
       "       [ 35.83815204, 127.11198859],\n",
       "       ...,\n",
       "       [ 35.83775445, 127.11185324],\n",
       "       [ 35.83749663, 127.11216901],\n",
       "       [ 35.83735671, 127.11200109]])"
      ]
     },
     "execution_count": 25,
     "metadata": {},
     "output_type": "execute_result"
    }
   ],
   "source": [
    "t0+walk[:2,:,:].sum(axis=0)"
   ]
  },
  {
   "cell_type": "markdown",
   "id": "0b15f140-970f-4f32-bcdb-c76d0c125d36",
   "metadata": {},
   "source": [
    "`-` 그렇다면 시점3은? "
   ]
  },
  {
   "cell_type": "code",
   "execution_count": 26,
   "id": "a76838fb-ce6c-4915-9121-1269836ca194",
   "metadata": {},
   "outputs": [
    {
     "data": {
      "text/plain": [
       "array([[ 35.83746132, 127.11195158],\n",
       "       [ 35.83740523, 127.11208138],\n",
       "       [ 35.83810142, 127.11186624],\n",
       "       ...,\n",
       "       [ 35.83767941, 127.1118255 ],\n",
       "       [ 35.83733062, 127.11206738],\n",
       "       [ 35.83743684, 127.11198322]])"
      ]
     },
     "execution_count": 26,
     "metadata": {},
     "output_type": "execute_result"
    }
   ],
   "source": [
    "t0+walk[:3,:,:].sum(axis=0)"
   ]
  },
  {
   "cell_type": "markdown",
   "id": "c19414a2-8a4f-49ee-a05a-a5cc25ed4a42",
   "metadata": {},
   "source": [
    "`-` 따라서 data 는 "
   ]
  },
  {
   "cell_type": "code",
   "execution_count": 27,
   "id": "5e785a27-3e6f-4d96-bd20-da738cb9a128",
   "metadata": {},
   "outputs": [],
   "source": [
    "data = [(t0+walk[:i,:,:].sum(axis=0)).tolist() for i in range(200)]"
   ]
  },
  {
   "cell_type": "code",
   "execution_count": 28,
   "id": "7370356a-cda2-4f8e-a14a-35556d78812e",
   "metadata": {},
   "outputs": [
    {
     "data": {
      "text/plain": [
       "(200, 3000, 2)"
      ]
     },
     "execution_count": 28,
     "metadata": {},
     "output_type": "execute_result"
    }
   ],
   "source": [
    "np.array(data).shape"
   ]
  },
  {
   "cell_type": "markdown",
   "id": "cb407ee4-fc3e-4cb7-8685-587096458eea",
   "metadata": {},
   "source": [
    "`-` 이제 data[0], data[1], data[2], ... data[199]까지 대입하여 각각 그림을 그리고 시각화하면 된다. "
   ]
  },
  {
   "cell_type": "markdown",
   "id": "dc1ccf9d-a642-4816-862f-897ee4598179",
   "metadata": {},
   "source": [
    "#### step2: folium "
   ]
  },
  {
   "cell_type": "code",
   "execution_count": 29,
   "id": "f9f2fe2c-b884-476a-9d6d-94e6f12b158c",
   "metadata": {},
   "outputs": [
    {
     "data": {
      "text/plain": [
       "<folium.plugins.heat_map_withtime.HeatMapWithTime at 0x7f547270e280>"
      ]
     },
     "execution_count": 29,
     "metadata": {},
     "output_type": "execute_result"
    }
   ],
   "source": [
    "m=folium.Map(scrollWheelZoom=False,\n",
    "             location=[35.837688889992634,127.11212714586104],\n",
    "             zoom_start=16)\n",
    "plugins.HeatMapWithTime(data,radius=5).add_to(m)\n",
    "#m"
   ]
  },
  {
   "cell_type": "markdown",
   "id": "5748acbb-303a-4ef2-acb3-799b282d09c0",
   "metadata": {},
   "source": [
    "- 가스의 확산과정 "
   ]
  },
  {
   "cell_type": "markdown",
   "id": "24d035fa-cb6b-45e4-9cfe-667df956dbb3",
   "metadata": {},
   "source": [
    "### 예제: earthquakes "
   ]
  },
  {
   "cell_type": "markdown",
   "id": "17d091e6-4f42-4cc1-bd37-ff48a19e1847",
   "metadata": {},
   "source": [
    "#### Step1: Pandas "
   ]
  },
  {
   "cell_type": "code",
   "execution_count": 30,
   "id": "15c3cd63-1282-4531-aafd-46b196ce0f68",
   "metadata": {},
   "outputs": [
    {
     "data": {
      "text/html": [
       "<div>\n",
       "<style scoped>\n",
       "    .dataframe tbody tr th:only-of-type {\n",
       "        vertical-align: middle;\n",
       "    }\n",
       "\n",
       "    .dataframe tbody tr th {\n",
       "        vertical-align: top;\n",
       "    }\n",
       "\n",
       "    .dataframe thead th {\n",
       "        text-align: right;\n",
       "    }\n",
       "</style>\n",
       "<table border=\"1\" class=\"dataframe\">\n",
       "  <thead>\n",
       "    <tr style=\"text-align: right;\">\n",
       "      <th></th>\n",
       "      <th>Date</th>\n",
       "      <th>Latitude</th>\n",
       "      <th>Longitude</th>\n",
       "      <th>Magnitude</th>\n",
       "    </tr>\n",
       "  </thead>\n",
       "  <tbody>\n",
       "    <tr>\n",
       "      <th>0</th>\n",
       "      <td>01/02/1965</td>\n",
       "      <td>19.2460</td>\n",
       "      <td>145.6160</td>\n",
       "      <td>6.0</td>\n",
       "    </tr>\n",
       "    <tr>\n",
       "      <th>1</th>\n",
       "      <td>01/04/1965</td>\n",
       "      <td>1.8630</td>\n",
       "      <td>127.3520</td>\n",
       "      <td>5.8</td>\n",
       "    </tr>\n",
       "    <tr>\n",
       "      <th>2</th>\n",
       "      <td>01/05/1965</td>\n",
       "      <td>-20.5790</td>\n",
       "      <td>-173.9720</td>\n",
       "      <td>6.2</td>\n",
       "    </tr>\n",
       "    <tr>\n",
       "      <th>3</th>\n",
       "      <td>01/08/1965</td>\n",
       "      <td>-59.0760</td>\n",
       "      <td>-23.5570</td>\n",
       "      <td>5.8</td>\n",
       "    </tr>\n",
       "    <tr>\n",
       "      <th>4</th>\n",
       "      <td>01/09/1965</td>\n",
       "      <td>11.9380</td>\n",
       "      <td>126.4270</td>\n",
       "      <td>5.8</td>\n",
       "    </tr>\n",
       "    <tr>\n",
       "      <th>...</th>\n",
       "      <td>...</td>\n",
       "      <td>...</td>\n",
       "      <td>...</td>\n",
       "      <td>...</td>\n",
       "    </tr>\n",
       "    <tr>\n",
       "      <th>23407</th>\n",
       "      <td>12/28/2016</td>\n",
       "      <td>38.3917</td>\n",
       "      <td>-118.8941</td>\n",
       "      <td>5.6</td>\n",
       "    </tr>\n",
       "    <tr>\n",
       "      <th>23408</th>\n",
       "      <td>12/28/2016</td>\n",
       "      <td>38.3777</td>\n",
       "      <td>-118.8957</td>\n",
       "      <td>5.5</td>\n",
       "    </tr>\n",
       "    <tr>\n",
       "      <th>23409</th>\n",
       "      <td>12/28/2016</td>\n",
       "      <td>36.9179</td>\n",
       "      <td>140.4262</td>\n",
       "      <td>5.9</td>\n",
       "    </tr>\n",
       "    <tr>\n",
       "      <th>23410</th>\n",
       "      <td>12/29/2016</td>\n",
       "      <td>-9.0283</td>\n",
       "      <td>118.6639</td>\n",
       "      <td>6.3</td>\n",
       "    </tr>\n",
       "    <tr>\n",
       "      <th>23411</th>\n",
       "      <td>12/30/2016</td>\n",
       "      <td>37.3973</td>\n",
       "      <td>141.4103</td>\n",
       "      <td>5.5</td>\n",
       "    </tr>\n",
       "  </tbody>\n",
       "</table>\n",
       "<p>23412 rows × 4 columns</p>\n",
       "</div>"
      ],
      "text/plain": [
       "             Date  Latitude  Longitude  Magnitude\n",
       "0      01/02/1965   19.2460   145.6160        6.0\n",
       "1      01/04/1965    1.8630   127.3520        5.8\n",
       "2      01/05/1965  -20.5790  -173.9720        6.2\n",
       "3      01/08/1965  -59.0760   -23.5570        5.8\n",
       "4      01/09/1965   11.9380   126.4270        5.8\n",
       "...           ...       ...        ...        ...\n",
       "23407  12/28/2016   38.3917  -118.8941        5.6\n",
       "23408  12/28/2016   38.3777  -118.8957        5.5\n",
       "23409  12/28/2016   36.9179   140.4262        5.9\n",
       "23410  12/29/2016   -9.0283   118.6639        6.3\n",
       "23411  12/30/2016   37.3973   141.4103        5.5\n",
       "\n",
       "[23412 rows x 4 columns]"
      ]
     },
     "execution_count": 30,
     "metadata": {},
     "output_type": "execute_result"
    }
   ],
   "source": [
    "df=pd.read_csv('https://raw.githubusercontent.com/plotly/datasets/master/earthquakes-23k.csv')\n",
    "df"
   ]
  },
  {
   "cell_type": "code",
   "execution_count": 31,
   "id": "724eebbf-f386-4b74-87b9-6e826b9685a8",
   "metadata": {},
   "outputs": [],
   "source": [
    "lst=[df.assign(Year=list(map(lambda x: x.split('/')[-1], df.Date))).\\\n",
    "groupby('Year').\\\n",
    "pipe(list)[i][1].iloc[:,[1,2,3]].\\\n",
    "to_numpy().tolist() for i in range(2017-1965)]"
   ]
  },
  {
   "cell_type": "markdown",
   "id": "71e31e3c-a649-4b44-90d0-a0230c1248c9",
   "metadata": {},
   "source": [
    "#### Step2: folium "
   ]
  },
  {
   "cell_type": "code",
   "execution_count": 32,
   "id": "eda41ab4-2fb4-468a-ae81-51fea977eb3f",
   "metadata": {},
   "outputs": [
    {
     "data": {
      "text/plain": [
       "<folium.plugins.heat_map_withtime.HeatMapWithTime at 0x7f5472755d60>"
      ]
     },
     "execution_count": 32,
     "metadata": {},
     "output_type": "execute_result"
    }
   ],
   "source": [
    "m=folium.Map(scrollWheelZoom=False)\n",
    "plugins.HeatMapWithTime(lst,radius=5,index=list(range(1965,2017))).add_to(m)\n",
    "#m"
   ]
  },
  {
   "cell_type": "markdown",
   "id": "c439701a-6987-47b0-8280-c836235be02b",
   "metadata": {},
   "source": [
    "`-` 숙제: "
   ]
  },
  {
   "cell_type": "markdown",
   "id": "c92a9a23-5589-4146-9d8c-ff32bd85159a",
   "metadata": {},
   "source": [
    "지진자료에서 1985년 이후의 자료만 고른뒤에 HeatMapWithTime()을 이용하여 시각화하라."
   ]
  }
 ],
 "metadata": {
  "kernelspec": {
   "display_name": "Python 3 (ipykernel)",
   "language": "python",
   "name": "python3"
  },
  "language_info": {
   "codemirror_mode": {
    "name": "ipython",
    "version": 3
   },
   "file_extension": ".py",
   "mimetype": "text/x-python",
   "name": "python",
   "nbconvert_exporter": "python",
   "pygments_lexer": "ipython3",
   "version": "3.8.12"
  },
  "widgets": {
   "application/vnd.jupyter.widget-state+json": {
    "state": {},
    "version_major": 2,
    "version_minor": 0
   }
  }
 },
 "nbformat": 4,
 "nbformat_minor": 5
}
