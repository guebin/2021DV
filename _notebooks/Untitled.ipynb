{
 "cells": [
  {
   "cell_type": "markdown",
   "id": "0400e341-d1aa-493c-8c48-75abccfbeb69",
   "metadata": {
    "tags": []
   },
   "source": [
    "# 데이터시각화 중간고사 대비문제 \n",
    "\n",
    "- toc:flase\n",
    "- branch: master\n",
    "- badges: flase\n",
    "- comments: flase \n",
    "- author: 최규빈"
   ]
  },
  {
   "cell_type": "code",
   "execution_count": 12,
   "id": "83b21dc2-e43b-41bf-8810-d349f3f39705",
   "metadata": {},
   "outputs": [],
   "source": [
    "# hide\n",
    "import matplotlib.pyplot as plt \n",
    "import seaborn as sns \n",
    "from plotnine import * \n",
    "import cv2 \n",
    "import numpy as np \n",
    "import pandas as pd "
   ]
  },
  {
   "cell_type": "markdown",
   "id": "da545ed7-42ff-4a07-8bbd-c663f54ffcea",
   "metadata": {
    "tags": []
   },
   "source": [
    "## Part I. "
   ]
  },
  {
   "cell_type": "markdown",
   "id": "a916faf2-8459-44be-ae6c-0775c02991e6",
   "metadata": {},
   "source": [
    "### `#`. 자기학번으로 랜덤시드를 만들고 $N(0,1)$, $N(1,1)$인 2개의 정규분포에서 각각 10000개의 관측치를 생성한뒤 saeborn을 이용하여 히스토그램을 그려라. "
   ]
  },
  {
   "cell_type": "markdown",
   "id": "1d4d5a95-a09c-4100-a2ea-36db6c896759",
   "metadata": {},
   "source": [
    "**힌트**\n",
    "- 랜덤시드 생성: np.random.seed()를 이용 "
   ]
  },
  {
   "cell_type": "markdown",
   "id": "327dfd01-f48c-4637-908f-1595015e4bb5",
   "metadata": {},
   "source": [
    "### `#`. 주어진 자료를 바탕으로 아래와 같은 시각화를 구현하라. "
   ]
  },
  {
   "cell_type": "markdown",
   "id": "bdbc888f-b991-48ea-b27c-0bb5c09793e4",
   "metadata": {},
   "source": [
    "**자료** \n",
    "\n",
    "```python\n",
    "x=[1,2,3,4]\n",
    "y=[1,2,4,3]\n",
    "```"
   ]
  },
  {
   "cell_type": "markdown",
   "id": "8a1f35e9-c47b-4206-8cf1-4aa469e97d6f",
   "metadata": {},
   "source": [
    "**시각화예시**"
   ]
  },
  {
   "cell_type": "code",
   "execution_count": 22,
   "id": "2ade3835-387f-46be-b3ae-774cb7d3b4f6",
   "metadata": {},
   "outputs": [
    {
     "data": {
      "text/plain": [
       "[<matplotlib.lines.Line2D at 0x7f4dfa1a25e0>]"
      ]
     },
     "execution_count": 22,
     "metadata": {},
     "output_type": "execute_result"
    },
    {
     "data": {
      "image/png": "[encoded data removed]",
      "text/plain": [
       "<Figure size 432x288 with 4 Axes>"
      ]
     },
     "metadata": {
      "needs_background": "light"
     },
     "output_type": "display_data"
    }
   ],
   "source": [
    "#hide \n",
    "x=[1,2,3,4]\n",
    "y=[1,2,4,3]\n",
    "_, axs = plt.subplots(2,2)\n",
    "axs[0,0].plot(x,y,'o:r') \n",
    "axs[0,1].plot(x,y,'Xb') \n",
    "axs[1,0].plot(x,y,'xm') \n",
    "axs[1,1].plot(x,y,'.--k') "
   ]
  },
  {
   "cell_type": "markdown",
   "id": "54230357-4979-4361-9a66-f3a3e9a1085f",
   "metadata": {},
   "source": [
    "## Part II. "
   ]
  },
  {
   "cell_type": "markdown",
   "id": "d7db8e5a-c6f9-4939-9b58-79dcae061d9d",
   "metadata": {},
   "source": [
    "### `#` 아래는 앤스콤의 플랏이다. 옳게 해석한 사람을 모두 고르라 "
   ]
  },
  {
   "cell_type": "code",
   "execution_count": 21,
   "id": "8f20af3f-81b8-44ef-aff9-6b3b664f3c9d",
   "metadata": {},
   "outputs": [
    {
     "data": {
      "image/png": "[encoded data removed]",
      "text/plain": [
       "<Figure size 432x288 with 4 Axes>"
      ]
     },
     "metadata": {
      "needs_background": "light"
     },
     "output_type": "display_data"
    }
   ],
   "source": [
    "#hide\n",
    "x = [10, 8, 13, 9, 11, 14, 6, 4, 12, 7, 5]\n",
    "y1 = [8.04, 6.95, 7.58, 8.81, 8.33, 9.96, 7.24, 4.26, 10.84, 4.82, 5.68]\n",
    "y2 = [9.14, 8.14, 8.74, 8.77, 9.26, 8.10, 6.13, 3.10, 9.13, 7.26, 4.74]\n",
    "y3 = [7.46, 6.77, 12.74, 7.11, 7.81, 8.84, 6.08, 5.39, 8.15, 6.42, 5.73]\n",
    "x4 = [8, 8, 8, 8, 8, 8, 8, 19, 8, 8, 8]\n",
    "y4 = [6.58, 5.76, 7.71, 8.84, 8.47, 7.04, 5.25, 12.50, 5.56, 7.91, 6.89]\n",
    "fig, axs = plt.subplots(2,2)\n",
    "axs[0,0].plot(x,y1,'o') \n",
    "axs[0,0].set_title('(a)')\n",
    "axs[0,1].plot(x,y2,'o') \n",
    "axs[0,1].set_title('(b)')\n",
    "axs[1,0].plot(x,y3,'o')  \n",
    "axs[1,0].set_title('(c)')\n",
    "axs[1,1].plot(x4,y4,'o') \n",
    "axs[1,1].set_title('(d)') \n",
    "fig.tight_layout()"
   ]
  },
  {
   "cell_type": "markdown",
   "id": "c0ce5137-63ce-45ec-9c15-6caf8bf5eb41",
   "metadata": {},
   "source": [
    "(하니) 그림 (a)는 양의 상관계수를 가진다. \n",
    "\n",
    "(나애리) 그림 (b)는 산점도가 직선이 아니라 곡선의 모양을 띄고 있으므로 상관계수는 0이다. \n",
    "\n",
    "(홍두깨) 그림 (c)에서 상단의 이상치를 제외하면 상관계수는 1이다. \n",
    "\n",
    "(고은혜) 그림 (c)와 (d)의 상관계수를 각각 $r_1, r_2$라고 하자. 그리고 (c)와 (d)에서 각각 이상치를 제외한뒤 구한 상관계수를 $\\tilde{r}_1, \\tilde{r}_2$ 이라고 하자. 그렇다면 $r_1 r_2 < \\tilde{r}_1\\tilde{r}_2$ 가 성립한다. "
   ]
  },
  {
   "cell_type": "markdown",
   "id": "ab52c316-bbc1-4b91-a83b-d31dba255896",
   "metadata": {},
   "source": [
    "### `#`. 아래의 산점도를 보고 옳게 해석한 사람을 모두 고르라. "
   ]
  },
  {
   "cell_type": "code",
   "execution_count": 15,
   "id": "fb4b4d2c-cc4e-40c8-a154-7c7ceeecda7d",
   "metadata": {},
   "outputs": [
    {
     "data": {
      "text/plain": [
       "[<matplotlib.lines.Line2D at 0x7f4e0774b9d0>]"
      ]
     },
     "execution_count": 15,
     "metadata": {},
     "output_type": "execute_result"
    },
    {
     "data": {
      "image/png": "[encoded data removed]",
      "text/plain": [
       "<Figure size 432x288 with 1 Axes>"
      ]
     },
     "metadata": {
      "needs_background": "light"
     },
     "output_type": "display_data"
    }
   ],
   "source": [
    "#hide\n",
    "x1=np.arange(0,10,0.1)\n",
    "y1=x1+np.random.normal(loc=0,scale=1.0,size=len(x1))\n",
    "plt.plot(x1,y1,'.')"
   ]
  },
  {
   "cell_type": "markdown",
   "id": "2d759a29-e236-4735-a14b-3ea421c31017",
   "metadata": {},
   "source": [
    "(하니) 두 변수는 양의 상관관계에 있어 보인다. \n",
    "\n",
    "(나애리) 완전한 직선 모양이 되지는 않았으므로 상관계수는 1보다 작다. \n",
    "\n",
    "(홍두깨) 산점도를 파악하면 $x$가 증가할때 $y$도 증가하므로 $x$가 $y$를 유발하는 원인이라 해석할 수 있다. \n",
    "\n",
    "(고은혜) $y$를 유지한채 $x$의 값을 모두 2배로 하면 상관계수의 값도 2배가 된다. "
   ]
  },
  {
   "cell_type": "markdown",
   "id": "f9c8c8dc-5f30-4e87-926d-18805c24bd9a",
   "metadata": {},
   "source": [
    "### `#`. 다음은 이변량정규분포의 산점도이다. 옳게 해석한 것을 모두 고르라 "
   ]
  },
  {
   "cell_type": "code",
   "execution_count": 23,
   "id": "55b44bb9-9fa4-4745-9807-80bb851099b2",
   "metadata": {},
   "outputs": [
    {
     "data": {
      "text/plain": [
       "<matplotlib.collections.PathCollection at 0x7f4dfad8a1f0>"
      ]
     },
     "execution_count": 23,
     "metadata": {},
     "output_type": "execute_result"
    },
    {
     "data": {
      "image/png": "[encoded data removed]",
      "text/plain": [
       "<Figure size 432x288 with 1 Axes>"
      ]
     },
     "metadata": {
      "needs_background": "light"
     },
     "output_type": "display_data"
    }
   ],
   "source": [
    "#hide\n",
    "np.random.seed(43052)\n",
    "x4=np.random.normal(size=10000)\n",
    "y4=np.random.normal(size=10000)\n",
    "plt.scatter(x4,y4,alpha=0.01)"
   ]
  },
  {
   "cell_type": "markdown",
   "id": "f24b009f-e8c1-49f3-b301-4e833240b953",
   "metadata": {},
   "source": [
    "(하니) 상관계수는 0으로 보인다. \n",
    "\n",
    "(나애리) 완전한 직선 모양이 되지는 않았으므로 상관계수는 1보다 작다. \n",
    "\n",
    "(홍두깨) 산점도를 파악하면 $x$가 증가할때 $y$도 증가하므로 $x$가 $y$를 유발하는 원인이라 해석할 수 있다. \n",
    "\n",
    "(고은혜) $y$를 유지한채 $x$의 값을 모두 2배로 하면 상관계수의 값도 2배가 된다. "
   ]
  },
  {
   "cell_type": "markdown",
   "id": "f3c9d043-4418-4d38-bf7e-fa4b69413678",
   "metadata": {},
   "source": [
    "## Part III. "
   ]
  },
  {
   "cell_type": "markdown",
   "id": "50473607-9e53-428a-9d04-7d3ad58f4e86",
   "metadata": {},
   "source": [
    "### `#` 아래는 pandas cookbook에 수록된 employee 자료이다. "
   ]
  },
  {
   "cell_type": "code",
   "execution_count": 26,
   "id": "b13acc19-54ba-413e-9640-ba8e68a536e0",
   "metadata": {},
   "outputs": [
    {
     "data": {
      "text/html": [
       "<div>\n",
       "<style scoped>\n",
       "    .dataframe tbody tr th:only-of-type {\n",
       "        vertical-align: middle;\n",
       "    }\n",
       "\n",
       "    .dataframe tbody tr th {\n",
       "        vertical-align: top;\n",
       "    }\n",
       "\n",
       "    .dataframe thead th {\n",
       "        text-align: right;\n",
       "    }\n",
       "</style>\n",
       "<table border=\"1\" class=\"dataframe\">\n",
       "  <thead>\n",
       "    <tr style=\"text-align: right;\">\n",
       "      <th></th>\n",
       "      <th>UNIQUE_ID</th>\n",
       "      <th>POSITION_TITLE</th>\n",
       "      <th>DEPARTMENT</th>\n",
       "      <th>BASE_SALARY</th>\n",
       "      <th>RACE</th>\n",
       "      <th>EMPLOYMENT_TYPE</th>\n",
       "      <th>GENDER</th>\n",
       "      <th>EMPLOYMENT_STATUS</th>\n",
       "      <th>HIRE_DATE</th>\n",
       "      <th>JOB_DATE</th>\n",
       "    </tr>\n",
       "  </thead>\n",
       "  <tbody>\n",
       "    <tr>\n",
       "      <th>0</th>\n",
       "      <td>0</td>\n",
       "      <td>ASSISTANT DIRECTOR (EX LVL)</td>\n",
       "      <td>Municipal Courts Department</td>\n",
       "      <td>121862.0</td>\n",
       "      <td>Hispanic/Latino</td>\n",
       "      <td>Full Time</td>\n",
       "      <td>Female</td>\n",
       "      <td>Active</td>\n",
       "      <td>2006-06-12</td>\n",
       "      <td>2012-10-13</td>\n",
       "    </tr>\n",
       "    <tr>\n",
       "      <th>1</th>\n",
       "      <td>1</td>\n",
       "      <td>LIBRARY ASSISTANT</td>\n",
       "      <td>Library</td>\n",
       "      <td>26125.0</td>\n",
       "      <td>Hispanic/Latino</td>\n",
       "      <td>Full Time</td>\n",
       "      <td>Female</td>\n",
       "      <td>Active</td>\n",
       "      <td>2000-07-19</td>\n",
       "      <td>2010-09-18</td>\n",
       "    </tr>\n",
       "    <tr>\n",
       "      <th>2</th>\n",
       "      <td>2</td>\n",
       "      <td>POLICE OFFICER</td>\n",
       "      <td>Houston Police Department-HPD</td>\n",
       "      <td>45279.0</td>\n",
       "      <td>White</td>\n",
       "      <td>Full Time</td>\n",
       "      <td>Male</td>\n",
       "      <td>Active</td>\n",
       "      <td>2015-02-03</td>\n",
       "      <td>2015-02-03</td>\n",
       "    </tr>\n",
       "    <tr>\n",
       "      <th>3</th>\n",
       "      <td>3</td>\n",
       "      <td>ENGINEER/OPERATOR</td>\n",
       "      <td>Houston Fire Department (HFD)</td>\n",
       "      <td>63166.0</td>\n",
       "      <td>White</td>\n",
       "      <td>Full Time</td>\n",
       "      <td>Male</td>\n",
       "      <td>Active</td>\n",
       "      <td>1982-02-08</td>\n",
       "      <td>1991-05-25</td>\n",
       "    </tr>\n",
       "    <tr>\n",
       "      <th>4</th>\n",
       "      <td>4</td>\n",
       "      <td>ELECTRICIAN</td>\n",
       "      <td>General Services Department</td>\n",
       "      <td>56347.0</td>\n",
       "      <td>White</td>\n",
       "      <td>Full Time</td>\n",
       "      <td>Male</td>\n",
       "      <td>Active</td>\n",
       "      <td>1989-06-19</td>\n",
       "      <td>1994-10-22</td>\n",
       "    </tr>\n",
       "    <tr>\n",
       "      <th>...</th>\n",
       "      <td>...</td>\n",
       "      <td>...</td>\n",
       "      <td>...</td>\n",
       "      <td>...</td>\n",
       "      <td>...</td>\n",
       "      <td>...</td>\n",
       "      <td>...</td>\n",
       "      <td>...</td>\n",
       "      <td>...</td>\n",
       "      <td>...</td>\n",
       "    </tr>\n",
       "    <tr>\n",
       "      <th>1995</th>\n",
       "      <td>1995</td>\n",
       "      <td>POLICE OFFICER</td>\n",
       "      <td>Houston Police Department-HPD</td>\n",
       "      <td>43443.0</td>\n",
       "      <td>White</td>\n",
       "      <td>Full Time</td>\n",
       "      <td>Male</td>\n",
       "      <td>Active</td>\n",
       "      <td>2014-06-09</td>\n",
       "      <td>2015-06-09</td>\n",
       "    </tr>\n",
       "    <tr>\n",
       "      <th>1996</th>\n",
       "      <td>1996</td>\n",
       "      <td>COMMUNICATIONS CAPTAIN</td>\n",
       "      <td>Houston Fire Department (HFD)</td>\n",
       "      <td>66523.0</td>\n",
       "      <td>Black or African American</td>\n",
       "      <td>Full Time</td>\n",
       "      <td>Male</td>\n",
       "      <td>Active</td>\n",
       "      <td>2003-09-02</td>\n",
       "      <td>2013-10-06</td>\n",
       "    </tr>\n",
       "    <tr>\n",
       "      <th>1997</th>\n",
       "      <td>1997</td>\n",
       "      <td>POLICE OFFICER</td>\n",
       "      <td>Houston Police Department-HPD</td>\n",
       "      <td>43443.0</td>\n",
       "      <td>White</td>\n",
       "      <td>Full Time</td>\n",
       "      <td>Male</td>\n",
       "      <td>Active</td>\n",
       "      <td>2014-10-13</td>\n",
       "      <td>2015-10-13</td>\n",
       "    </tr>\n",
       "    <tr>\n",
       "      <th>1998</th>\n",
       "      <td>1998</td>\n",
       "      <td>POLICE OFFICER</td>\n",
       "      <td>Houston Police Department-HPD</td>\n",
       "      <td>55461.0</td>\n",
       "      <td>Asian/Pacific Islander</td>\n",
       "      <td>Full Time</td>\n",
       "      <td>Male</td>\n",
       "      <td>Active</td>\n",
       "      <td>2009-01-20</td>\n",
       "      <td>2011-07-02</td>\n",
       "    </tr>\n",
       "    <tr>\n",
       "      <th>1999</th>\n",
       "      <td>1999</td>\n",
       "      <td>FIRE FIGHTER</td>\n",
       "      <td>Houston Fire Department (HFD)</td>\n",
       "      <td>51194.0</td>\n",
       "      <td>Hispanic/Latino</td>\n",
       "      <td>Full Time</td>\n",
       "      <td>Male</td>\n",
       "      <td>Active</td>\n",
       "      <td>2009-01-12</td>\n",
       "      <td>2010-07-12</td>\n",
       "    </tr>\n",
       "  </tbody>\n",
       "</table>\n",
       "<p>2000 rows × 10 columns</p>\n",
       "</div>"
      ],
      "text/plain": [
       "      UNIQUE_ID               POSITION_TITLE                     DEPARTMENT  \\\n",
       "0             0  ASSISTANT DIRECTOR (EX LVL)    Municipal Courts Department   \n",
       "1             1            LIBRARY ASSISTANT                        Library   \n",
       "2             2               POLICE OFFICER  Houston Police Department-HPD   \n",
       "3             3            ENGINEER/OPERATOR  Houston Fire Department (HFD)   \n",
       "4             4                  ELECTRICIAN    General Services Department   \n",
       "...         ...                          ...                            ...   \n",
       "1995       1995               POLICE OFFICER  Houston Police Department-HPD   \n",
       "1996       1996       COMMUNICATIONS CAPTAIN  Houston Fire Department (HFD)   \n",
       "1997       1997               POLICE OFFICER  Houston Police Department-HPD   \n",
       "1998       1998               POLICE OFFICER  Houston Police Department-HPD   \n",
       "1999       1999                 FIRE FIGHTER  Houston Fire Department (HFD)   \n",
       "\n",
       "      BASE_SALARY                       RACE EMPLOYMENT_TYPE  GENDER  \\\n",
       "0        121862.0            Hispanic/Latino       Full Time  Female   \n",
       "1         26125.0            Hispanic/Latino       Full Time  Female   \n",
       "2         45279.0                      White       Full Time    Male   \n",
       "3         63166.0                      White       Full Time    Male   \n",
       "4         56347.0                      White       Full Time    Male   \n",
       "...           ...                        ...             ...     ...   \n",
       "1995      43443.0                      White       Full Time    Male   \n",
       "1996      66523.0  Black or African American       Full Time    Male   \n",
       "1997      43443.0                      White       Full Time    Male   \n",
       "1998      55461.0     Asian/Pacific Islander       Full Time    Male   \n",
       "1999      51194.0            Hispanic/Latino       Full Time    Male   \n",
       "\n",
       "     EMPLOYMENT_STATUS   HIRE_DATE    JOB_DATE  \n",
       "0               Active  2006-06-12  2012-10-13  \n",
       "1               Active  2000-07-19  2010-09-18  \n",
       "2               Active  2015-02-03  2015-02-03  \n",
       "3               Active  1982-02-08  1991-05-25  \n",
       "4               Active  1989-06-19  1994-10-22  \n",
       "...                ...         ...         ...  \n",
       "1995            Active  2014-06-09  2015-06-09  \n",
       "1996            Active  2003-09-02  2013-10-06  \n",
       "1997            Active  2014-10-13  2015-10-13  \n",
       "1998            Active  2009-01-20  2011-07-02  \n",
       "1999            Active  2009-01-12  2010-07-12  \n",
       "\n",
       "[2000 rows x 10 columns]"
      ]
     },
     "execution_count": 26,
     "metadata": {},
     "output_type": "execute_result"
    }
   ],
   "source": [
    "df=pd.read_csv('https://raw.githubusercontent.com/PacktPublishing/Pandas-Cookbook/master/data/employee.csv')\n",
    "df"
   ]
  },
  {
   "cell_type": "markdown",
   "id": "df921068-f14d-4da5-8b73-ae19d47e93c4",
   "metadata": {},
   "source": [
    "#### (a) "
   ]
  },
  {
   "cell_type": "code",
   "execution_count": null,
   "id": "acf86936-011c-4a84-a204-055e60189ad4",
   "metadata": {},
   "outputs": [],
   "source": []
  }
 ],
 "metadata": {
  "kernelspec": {
   "display_name": "Python 3 (ipykernel)",
   "language": "python",
   "name": "python3"
  },
  "language_info": {
   "codemirror_mode": {
    "name": "ipython",
    "version": 3
   },
   "file_extension": ".py",
   "mimetype": "text/x-python",
   "name": "python",
   "nbconvert_exporter": "python",
   "pygments_lexer": "ipython3",
   "version": "3.8.12"
  }
 },
 "nbformat": 4,
 "nbformat_minor": 5
}
