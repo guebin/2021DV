{
 "cells": [
  {
   "cell_type": "markdown",
   "id": "83eb4676-5347-4779-8c18-37dd7e083b4c",
   "metadata": {},
   "source": [
    "### import "
   ]
  },
  {
   "cell_type": "code",
   "execution_count": 1,
   "id": "9bcac863-f96c-4a65-95b1-3d846a5ca2e5",
   "metadata": {},
   "outputs": [],
   "source": [
    "import matplotlib.pyplot as plt \n",
    "import numpy as np "
   ]
  },
  {
   "cell_type": "markdown",
   "id": "8f267485-eb9e-4dd0-ab48-6caa24b9b730",
   "metadata": {},
   "source": [
    "### boxplot "
   ]
  },
  {
   "cell_type": "markdown",
   "id": "36d71d58-d38c-4cb0-86e9-0cff03daa06b",
   "metadata": {},
   "source": [
    "#### 전북고예제: 평균은 괜찮은 측정값인가? "
   ]
  },
  {
   "cell_type": "markdown",
   "id": "058c19ce-6041-4d56-b4db-258d5c563274",
   "metadata": {},
   "source": [
    "`-` 전북고등학교에서 통계학을 수업하는 두 선생님이 있다. 편의상 A선생님과 B선생님이라고 하자. A선생님이 강의한 반의 통계학 점수는 79.1점이고, B선생님이 강의한 반의 통계학 점수는 78.3점 이라고 하자. "
   ]
  },
  {
   "cell_type": "markdown",
   "id": "58d40476-d72c-42b8-8a84-58a9f47db032",
   "metadata": {},
   "source": [
    "`-` 의사결정: A선생님에게 배운 학생들의 실력이 평균적으로 좋을 것이다. "
   ]
  },
  {
   "cell_type": "code",
   "execution_count": 2,
   "id": "2c9667e4-0a3a-47e5-9ad8-2574bc74c041",
   "metadata": {},
   "outputs": [],
   "source": [
    "y1=[75,75,76,76,77,77,79,79,79,98] # A선생님에게 통계학을 배운 학생의 점수들\n",
    "y2=[76,76,77,77,78,78,80,80,80,81] # B선생님에게 통계학을 배운 학생의 점수들 "
   ]
  },
  {
   "cell_type": "code",
   "execution_count": 3,
   "id": "f176222e-b30b-4522-bf2d-124a40659f2c",
   "metadata": {},
   "outputs": [
    {
     "data": {
      "text/plain": [
       "(79.1, 78.3)"
      ]
     },
     "execution_count": 3,
     "metadata": {},
     "output_type": "execute_result"
    }
   ],
   "source": [
    "np.mean(y1), np.mean(y2)"
   ]
  },
  {
   "cell_type": "markdown",
   "id": "9656fa05-fa54-476f-9b72-3b97fa8c335b",
   "metadata": {},
   "source": [
    "`-` 평균은 A반(=A선생님에게 통계학을 배운 반)이 더 높다. 그런데 98점을 받은 학생때문에 전체평균이 올라간 것이고, 나머지 학생들은 전체적으로 B반 학생들이 점수가 더 높다고 해석할 수 있다. "
   ]
  },
  {
   "cell_type": "markdown",
   "id": "b3bb2c64-9522-4e8e-859c-99236f0679fa",
   "metadata": {},
   "source": [
    "`-` 단순한 평균비교보다 분포를 비교해보는 것이 중요하다. 분포를 살펴보는 방법 중 유용한 방법이 박스플랏이다. "
   ]
  },
  {
   "cell_type": "code",
   "execution_count": 4,
   "id": "e968e710-02e4-441b-9d3b-3c7acbb6b4c1",
   "metadata": {},
   "outputs": [
    {
     "data": {
      "text/plain": [
       "{'whiskers': [<matplotlib.lines.Line2D at 0x7f0079ae1820>,\n",
       "  <matplotlib.lines.Line2D at 0x7f0079ae1af0>],\n",
       " 'caps': [<matplotlib.lines.Line2D at 0x7f0079ae1e80>,\n",
       "  <matplotlib.lines.Line2D at 0x7f0077a79250>],\n",
       " 'boxes': [<matplotlib.lines.Line2D at 0x7f0079ae14f0>],\n",
       " 'medians': [<matplotlib.lines.Line2D at 0x7f0077a795e0>],\n",
       " 'fliers': [<matplotlib.lines.Line2D at 0x7f0077a79970>],\n",
       " 'means': []}"
      ]
     },
     "execution_count": 4,
     "metadata": {},
     "output_type": "execute_result"
    },
    {
     "data": {
      "image/png": "[encoded data removed]",
      "text/plain": [
       "<Figure size 432x288 with 1 Axes>"
      ]
     },
     "metadata": {
      "needs_background": "light"
     },
     "output_type": "display_data"
    }
   ],
   "source": [
    "plt.boxplot(y1)"
   ]
  },
  {
   "cell_type": "markdown",
   "id": "695a3ff3-9f06-48a5-b2b3-754b98b6e583",
   "metadata": {},
   "source": [
    "- A반의 boxplot\n",
    "- 뚝 떨어진 하나의 점은 98점 \n",
    "- 붉은 선은 중앙값 (평균이 아니라 중앙값) \n",
    "- 나머지 점들은 7~80점에 분포되어있다. "
   ]
  },
  {
   "cell_type": "code",
   "execution_count": 5,
   "id": "c93ca40f-3bee-49ad-a96a-ab1756942c5f",
   "metadata": {},
   "outputs": [
    {
     "data": {
      "text/plain": [
       "{'whiskers': [<matplotlib.lines.Line2D at 0x7f00779d3e20>,\n",
       "  <matplotlib.lines.Line2D at 0x7f00779e41f0>],\n",
       " 'caps': [<matplotlib.lines.Line2D at 0x7f00779e4580>,\n",
       "  <matplotlib.lines.Line2D at 0x7f00779e4910>],\n",
       " 'boxes': [<matplotlib.lines.Line2D at 0x7f00779d3a90>],\n",
       " 'medians': [<matplotlib.lines.Line2D at 0x7f00779e4ca0>],\n",
       " 'fliers': [<matplotlib.lines.Line2D at 0x7f00779ef070>],\n",
       " 'means': []}"
      ]
     },
     "execution_count": 5,
     "metadata": {},
     "output_type": "execute_result"
    },
    {
     "data": {
      "image/png": "[encoded data removed]",
      "text/plain": [
       "<Figure size 432x288 with 1 Axes>"
      ]
     },
     "metadata": {
      "needs_background": "light"
     },
     "output_type": "display_data"
    }
   ],
   "source": [
    "plt.boxplot(y2)"
   ]
  },
  {
   "cell_type": "markdown",
   "id": "6a87737e-ed90-43bd-859b-6e7b2e8b5cfb",
   "metadata": {},
   "source": [
    "- B반의 boxplot"
   ]
  },
  {
   "cell_type": "markdown",
   "id": "bf075b6c-9779-441f-ac0d-ad0c9ff62fad",
   "metadata": {},
   "source": [
    "`-` 아래와 같이 하면 박스플랏을 나란히 그릴 수 있다. "
   ]
  },
  {
   "cell_type": "code",
   "execution_count": 6,
   "id": "45af327e-2876-4e84-ba54-16e1772d6409",
   "metadata": {},
   "outputs": [
    {
     "data": {
      "text/plain": [
       "{'whiskers': [<matplotlib.lines.Line2D at 0x7f0077942d30>,\n",
       "  <matplotlib.lines.Line2D at 0x7f0077951100>,\n",
       "  <matplotlib.lines.Line2D at 0x7f007795f6a0>,\n",
       "  <matplotlib.lines.Line2D at 0x7f007795fa30>],\n",
       " 'caps': [<matplotlib.lines.Line2D at 0x7f0077951490>,\n",
       "  <matplotlib.lines.Line2D at 0x7f0077951820>,\n",
       "  <matplotlib.lines.Line2D at 0x7f007795fdc0>,\n",
       "  <matplotlib.lines.Line2D at 0x7f007796b190>],\n",
       " 'boxes': [<matplotlib.lines.Line2D at 0x7f00779429a0>,\n",
       "  <matplotlib.lines.Line2D at 0x7f007795f310>],\n",
       " 'medians': [<matplotlib.lines.Line2D at 0x7f0077951bb0>,\n",
       "  <matplotlib.lines.Line2D at 0x7f007796b520>],\n",
       " 'fliers': [<matplotlib.lines.Line2D at 0x7f0077951f40>,\n",
       "  <matplotlib.lines.Line2D at 0x7f007796b8b0>],\n",
       " 'means': []}"
      ]
     },
     "execution_count": 6,
     "metadata": {},
     "output_type": "execute_result"
    },
    {
     "data": {
      "image/png": "[encoded data removed]",
      "text/plain": [
       "<Figure size 432x288 with 1 Axes>"
      ]
     },
     "metadata": {
      "needs_background": "light"
     },
     "output_type": "display_data"
    }
   ],
   "source": [
    "plt.boxplot([y1,y2])"
   ]
  },
  {
   "cell_type": "markdown",
   "id": "aa3fb04f-0e04-4f8e-b668-b81d2146b0b9",
   "metadata": {},
   "source": [
    "`-` 미적인 그래프는 아니지만 이정도는 괜찮은것 같다. "
   ]
  },
  {
   "cell_type": "markdown",
   "id": "66dec253-a97e-4f3b-896f-a13428daa4c6",
   "metadata": {},
   "source": [
    "#### boxplot이란? "
   ]
  },
  {
   "cell_type": "markdown",
   "id": "72473555-e1aa-4a4c-a205-84d14be8087d",
   "metadata": {},
   "source": [
    "`-` ref: https://github.com/mGalarnyk/Python_Tutorials/blob/master/Statistics/boxplot/box_plot.ipynb"
   ]
  },
  {
   "cell_type": "code",
   "execution_count": 7,
   "id": "ca95c459-a43d-44ad-8fc3-b5d2d0750c31",
   "metadata": {},
   "outputs": [
    {
     "data": {
      "image/png": "[encoded data removed]",
      "text/plain": [
       "<Figure size 720x360 with 1 Axes>"
      ]
     },
     "metadata": {
      "needs_background": "light"
     },
     "output_type": "display_data"
    }
   ],
   "source": [
    "#collapse \n",
    "np.random.seed(916170)\n",
    "\n",
    "# connection path is here: https://stackoverflow.com/questions/6146290/plotting-a-line-over-several-graphs\n",
    "mu, sigma = 0, 1 # mean and standard deviation\n",
    "s = np.random.normal(mu, sigma, 1000)\n",
    "\n",
    "fig, axes = plt.subplots(nrows = 1, ncols = 1, figsize=(10, 5))\n",
    "\n",
    "# rectangular box plot\n",
    "bplot = axes.boxplot(s,\n",
    "                vert=False,\n",
    "                patch_artist=True, \n",
    "                showfliers=True, # This would show outliers (the remaining .7% of the data)\n",
    "                positions = [0],\n",
    "                boxprops = dict(linestyle='--', linewidth=2, color='Black', facecolor = 'red', alpha = .4),\n",
    "                medianprops = dict(linestyle='-', linewidth=2, color='Yellow'),\n",
    "                whiskerprops = dict(linestyle='-', linewidth=2, color='Blue', alpha = .4),\n",
    "                capprops = dict(linestyle='-', linewidth=2, color='Black'),\n",
    "                flierprops = dict(marker='o', markerfacecolor='green', markersize=10,\n",
    "                  linestyle='none', alpha = .4),\n",
    "                widths = .3,\n",
    "                zorder = 1)   \n",
    "\n",
    "axes.set_xlim(-4, 4)\n",
    "plt.xticks(fontsize = 14)\n",
    "\n",
    "axes.set_yticks([])\n",
    "axes.annotate(r'',\n",
    "            xy=(-.73, .205), xycoords='data',\n",
    "            xytext=(.66, .205), textcoords='data',\n",
    "            arrowprops=dict(arrowstyle=\"|-|\",\n",
    "                            connectionstyle=\"arc3\")\n",
    "            );\n",
    "\n",
    "axes.text(0, .25, \"Interquartile Range \\n(IQR)\",  horizontalalignment='center', fontsize=18)\n",
    "axes.text(0, -.21, r\"Median\", horizontalalignment='center', fontsize=16);\n",
    "axes.text(2.65, -.15, \"\\\"Maximum\\\"\", horizontalalignment='center', fontsize=18);\n",
    "axes.text(-2.65, -.15, \"\\\"Minimum\\\"\", horizontalalignment='center', fontsize=18);\n",
    "axes.text(-.68, -.24, r\"Q1\", horizontalalignment='center', fontsize=18);\n",
    "axes.text(-2.65, -.21, r\"(Q1 - 1.5*IQR)\", horizontalalignment='center', fontsize=16);\n",
    "axes.text(.6745, -.24, r\"Q3\", horizontalalignment='center', fontsize=18);\n",
    "axes.text(.6745, -.30, r\"(75th Percentile)\", horizontalalignment='center', fontsize=12);\n",
    "axes.text(-.68, -.30, r\"(25th Percentile)\", horizontalalignment='center', fontsize=12);\n",
    "axes.text(2.65, -.21, r\"(Q3 + 1.5*IQR)\", horizontalalignment='center', fontsize=16);\n",
    "\n",
    "axes.annotate('Outliers', xy=(2.93,0.015), xytext=(2.52,0.20), fontsize = 18,\n",
    "            arrowprops={'arrowstyle': '->', 'color': 'black', 'lw': 2},\n",
    "            va='center');\n",
    "\n",
    "axes.annotate('Outliers', xy=(-3.01,0.015), xytext=(-3.41,0.20), fontsize = 18,\n",
    "            arrowprops={'arrowstyle': '->', 'color': 'black', 'lw': 2},\n",
    "            va='center');\n",
    "\n",
    "fig.tight_layout()"
   ]
  },
  {
   "cell_type": "markdown",
   "id": "d5ecd35a-dc18-4a6b-8057-0fe9fb090b6b",
   "metadata": {},
   "source": [
    "### plotly"
   ]
  },
  {
   "cell_type": "code",
   "execution_count": 9,
   "id": "de938b2c-72cb-471f-ae06-4f6153dd5f23",
   "metadata": {},
   "outputs": [],
   "source": [
    "#!conda install -c conda-forge nodejs \n",
    "#!conda install -c conda-forge plotly \n",
    "#!pip install pandas\n",
    "import plotly.express as px \n",
    "from IPython.display import HTML\n",
    "import pandas as pd "
   ]
  },
  {
   "cell_type": "code",
   "execution_count": 20,
   "id": "7b131040-26c2-41c4-8841-d1efb3f02299",
   "metadata": {},
   "outputs": [],
   "source": [
    "A=pd.DataFrame({'score':y1,'class':['A']*len(y1)})\n",
    "B=pd.DataFrame({'score':y2,'class':['B']*len(y2)})\n",
    "df=pd.concat([A,B],ignore_index=True)"
   ]
  },
  {
   "cell_type": "code",
   "execution_count": 27,
   "id": "f2a1ea41-5373-499c-9a06-bd3d789dad44",
   "metadata": {},
   "outputs": [
    {
     "data": {
      "text/html": [
       "<html>\n",
       "<head><meta charset=\"utf-8\" /></head>\n",
       "<body>\n",
       "    <div>                        <script type=\"text/javascript\">window.PlotlyConfig = {MathJaxConfig: 'local'};</script>\n",
       "        <script src=\"https://cdn.plot.ly/plotly-2.4.2.min.js\"></script>                <div id=\"ac4a77c2-c864-4583-8cf4-03aba4d0d8df\" class=\"plotly-graph-div\" style=\"height:100%; width:100%;\"></div>            <script type=\"text/javascript\">                                    window.PLOTLYENV=window.PLOTLYENV || {};                                    if (document.getElementById(\"ac4a77c2-c864-4583-8cf4-03aba4d0d8df\")) {                    Plotly.newPlot(                        \"ac4a77c2-c864-4583-8cf4-03aba4d0d8df\",                        [{\"alignmentgroup\":\"True\",\"hovertemplate\":\"class=%{x}<br>score=%{y}<extra></extra>\",\"legendgroup\":\"\",\"marker\":{\"color\":\"#636efa\"},\"name\":\"\",\"notched\":false,\"offsetgroup\":\"\",\"orientation\":\"v\",\"showlegend\":false,\"type\":\"box\",\"x\":[\"A\",\"A\",\"A\",\"A\",\"A\",\"A\",\"A\",\"A\",\"A\",\"A\",\"B\",\"B\",\"B\",\"B\",\"B\",\"B\",\"B\",\"B\",\"B\",\"B\"],\"x0\":\" \",\"xaxis\":\"x\",\"y\":[75,75,76,76,77,77,79,79,79,98,76,76,77,77,78,78,80,80,80,81],\"y0\":\" \",\"yaxis\":\"y\"}],                        {\"boxmode\":\"group\",\"legend\":{\"tracegroupgap\":0},\"margin\":{\"t\":60},\"template\":{\"data\":{\"bar\":[{\"error_x\":{\"color\":\"#2a3f5f\"},\"error_y\":{\"color\":\"#2a3f5f\"},\"marker\":{\"line\":{\"color\":\"#E5ECF6\",\"width\":0.5},\"pattern\":{\"fillmode\":\"overlay\",\"size\":10,\"solidity\":0.2}},\"type\":\"bar\"}],\"barpolar\":[{\"marker\":{\"line\":{\"color\":\"#E5ECF6\",\"width\":0.5},\"pattern\":{\"fillmode\":\"overlay\",\"size\":10,\"solidity\":0.2}},\"type\":\"barpolar\"}],\"carpet\":[{\"aaxis\":{\"endlinecolor\":\"#2a3f5f\",\"gridcolor\":\"white\",\"linecolor\":\"white\",\"minorgridcolor\":\"white\",\"startlinecolor\":\"#2a3f5f\"},\"baxis\":{\"endlinecolor\":\"#2a3f5f\",\"gridcolor\":\"white\",\"linecolor\":\"white\",\"minorgridcolor\":\"white\",\"startlinecolor\":\"#2a3f5f\"},\"type\":\"carpet\"}],\"choropleth\":[{\"colorbar\":{\"outlinewidth\":0,\"ticks\":\"\"},\"type\":\"choropleth\"}],\"contour\":[{\"colorbar\":{\"outlinewidth\":0,\"ticks\":\"\"},\"colorscale\":[[0.0,\"#0d0887\"],[0.1111111111111111,\"#46039f\"],[0.2222222222222222,\"#7201a8\"],[0.3333333333333333,\"#9c179e\"],[0.4444444444444444,\"#bd3786\"],[0.5555555555555556,\"#d8576b\"],[0.6666666666666666,\"#ed7953\"],[0.7777777777777778,\"#fb9f3a\"],[0.8888888888888888,\"#fdca26\"],[1.0,\"#f0f921\"]],\"type\":\"contour\"}],\"contourcarpet\":[{\"colorbar\":{\"outlinewidth\":0,\"ticks\":\"\"},\"type\":\"contourcarpet\"}],\"heatmap\":[{\"colorbar\":{\"outlinewidth\":0,\"ticks\":\"\"},\"colorscale\":[[0.0,\"#0d0887\"],[0.1111111111111111,\"#46039f\"],[0.2222222222222222,\"#7201a8\"],[0.3333333333333333,\"#9c179e\"],[0.4444444444444444,\"#bd3786\"],[0.5555555555555556,\"#d8576b\"],[0.6666666666666666,\"#ed7953\"],[0.7777777777777778,\"#fb9f3a\"],[0.8888888888888888,\"#fdca26\"],[1.0,\"#f0f921\"]],\"type\":\"heatmap\"}],\"heatmapgl\":[{\"colorbar\":{\"outlinewidth\":0,\"ticks\":\"\"},\"colorscale\":[[0.0,\"#0d0887\"],[0.1111111111111111,\"#46039f\"],[0.2222222222222222,\"#7201a8\"],[0.3333333333333333,\"#9c179e\"],[0.4444444444444444,\"#bd3786\"],[0.5555555555555556,\"#d8576b\"],[0.6666666666666666,\"#ed7953\"],[0.7777777777777778,\"#fb9f3a\"],[0.8888888888888888,\"#fdca26\"],[1.0,\"#f0f921\"]],\"type\":\"heatmapgl\"}],\"histogram\":[{\"marker\":{\"pattern\":{\"fillmode\":\"overlay\",\"size\":10,\"solidity\":0.2}},\"type\":\"histogram\"}],\"histogram2d\":[{\"colorbar\":{\"outlinewidth\":0,\"ticks\":\"\"},\"colorscale\":[[0.0,\"#0d0887\"],[0.1111111111111111,\"#46039f\"],[0.2222222222222222,\"#7201a8\"],[0.3333333333333333,\"#9c179e\"],[0.4444444444444444,\"#bd3786\"],[0.5555555555555556,\"#d8576b\"],[0.6666666666666666,\"#ed7953\"],[0.7777777777777778,\"#fb9f3a\"],[0.8888888888888888,\"#fdca26\"],[1.0,\"#f0f921\"]],\"type\":\"histogram2d\"}],\"histogram2dcontour\":[{\"colorbar\":{\"outlinewidth\":0,\"ticks\":\"\"},\"colorscale\":[[0.0,\"#0d0887\"],[0.1111111111111111,\"#46039f\"],[0.2222222222222222,\"#7201a8\"],[0.3333333333333333,\"#9c179e\"],[0.4444444444444444,\"#bd3786\"],[0.5555555555555556,\"#d8576b\"],[0.6666666666666666,\"#ed7953\"],[0.7777777777777778,\"#fb9f3a\"],[0.8888888888888888,\"#fdca26\"],[1.0,\"#f0f921\"]],\"type\":\"histogram2dcontour\"}],\"mesh3d\":[{\"colorbar\":{\"outlinewidth\":0,\"ticks\":\"\"},\"type\":\"mesh3d\"}],\"parcoords\":[{\"line\":{\"colorbar\":{\"outlinewidth\":0,\"ticks\":\"\"}},\"type\":\"parcoords\"}],\"pie\":[{\"automargin\":true,\"type\":\"pie\"}],\"scatter\":[{\"marker\":{\"colorbar\":{\"outlinewidth\":0,\"ticks\":\"\"}},\"type\":\"scatter\"}],\"scatter3d\":[{\"line\":{\"colorbar\":{\"outlinewidth\":0,\"ticks\":\"\"}},\"marker\":{\"colorbar\":{\"outlinewidth\":0,\"ticks\":\"\"}},\"type\":\"scatter3d\"}],\"scattercarpet\":[{\"marker\":{\"colorbar\":{\"outlinewidth\":0,\"ticks\":\"\"}},\"type\":\"scattercarpet\"}],\"scattergeo\":[{\"marker\":{\"colorbar\":{\"outlinewidth\":0,\"ticks\":\"\"}},\"type\":\"scattergeo\"}],\"scattergl\":[{\"marker\":{\"colorbar\":{\"outlinewidth\":0,\"ticks\":\"\"}},\"type\":\"scattergl\"}],\"scattermapbox\":[{\"marker\":{\"colorbar\":{\"outlinewidth\":0,\"ticks\":\"\"}},\"type\":\"scattermapbox\"}],\"scatterpolar\":[{\"marker\":{\"colorbar\":{\"outlinewidth\":0,\"ticks\":\"\"}},\"type\":\"scatterpolar\"}],\"scatterpolargl\":[{\"marker\":{\"colorbar\":{\"outlinewidth\":0,\"ticks\":\"\"}},\"type\":\"scatterpolargl\"}],\"scatterternary\":[{\"marker\":{\"colorbar\":{\"outlinewidth\":0,\"ticks\":\"\"}},\"type\":\"scatterternary\"}],\"surface\":[{\"colorbar\":{\"outlinewidth\":0,\"ticks\":\"\"},\"colorscale\":[[0.0,\"#0d0887\"],[0.1111111111111111,\"#46039f\"],[0.2222222222222222,\"#7201a8\"],[0.3333333333333333,\"#9c179e\"],[0.4444444444444444,\"#bd3786\"],[0.5555555555555556,\"#d8576b\"],[0.6666666666666666,\"#ed7953\"],[0.7777777777777778,\"#fb9f3a\"],[0.8888888888888888,\"#fdca26\"],[1.0,\"#f0f921\"]],\"type\":\"surface\"}],\"table\":[{\"cells\":{\"fill\":{\"color\":\"#EBF0F8\"},\"line\":{\"color\":\"white\"}},\"header\":{\"fill\":{\"color\":\"#C8D4E3\"},\"line\":{\"color\":\"white\"}},\"type\":\"table\"}]},\"layout\":{\"annotationdefaults\":{\"arrowcolor\":\"#2a3f5f\",\"arrowhead\":0,\"arrowwidth\":1},\"autotypenumbers\":\"strict\",\"coloraxis\":{\"colorbar\":{\"outlinewidth\":0,\"ticks\":\"\"}},\"colorscale\":{\"diverging\":[[0,\"#8e0152\"],[0.1,\"#c51b7d\"],[0.2,\"#de77ae\"],[0.3,\"#f1b6da\"],[0.4,\"#fde0ef\"],[0.5,\"#f7f7f7\"],[0.6,\"#e6f5d0\"],[0.7,\"#b8e186\"],[0.8,\"#7fbc41\"],[0.9,\"#4d9221\"],[1,\"#276419\"]],\"sequential\":[[0.0,\"#0d0887\"],[0.1111111111111111,\"#46039f\"],[0.2222222222222222,\"#7201a8\"],[0.3333333333333333,\"#9c179e\"],[0.4444444444444444,\"#bd3786\"],[0.5555555555555556,\"#d8576b\"],[0.6666666666666666,\"#ed7953\"],[0.7777777777777778,\"#fb9f3a\"],[0.8888888888888888,\"#fdca26\"],[1.0,\"#f0f921\"]],\"sequentialminus\":[[0.0,\"#0d0887\"],[0.1111111111111111,\"#46039f\"],[0.2222222222222222,\"#7201a8\"],[0.3333333333333333,\"#9c179e\"],[0.4444444444444444,\"#bd3786\"],[0.5555555555555556,\"#d8576b\"],[0.6666666666666666,\"#ed7953\"],[0.7777777777777778,\"#fb9f3a\"],[0.8888888888888888,\"#fdca26\"],[1.0,\"#f0f921\"]]},\"colorway\":[\"#636efa\",\"#EF553B\",\"#00cc96\",\"#ab63fa\",\"#FFA15A\",\"#19d3f3\",\"#FF6692\",\"#B6E880\",\"#FF97FF\",\"#FECB52\"],\"font\":{\"color\":\"#2a3f5f\"},\"geo\":{\"bgcolor\":\"white\",\"lakecolor\":\"white\",\"landcolor\":\"#E5ECF6\",\"showlakes\":true,\"showland\":true,\"subunitcolor\":\"white\"},\"hoverlabel\":{\"align\":\"left\"},\"hovermode\":\"closest\",\"mapbox\":{\"style\":\"light\"},\"paper_bgcolor\":\"white\",\"plot_bgcolor\":\"#E5ECF6\",\"polar\":{\"angularaxis\":{\"gridcolor\":\"white\",\"linecolor\":\"white\",\"ticks\":\"\"},\"bgcolor\":\"#E5ECF6\",\"radialaxis\":{\"gridcolor\":\"white\",\"linecolor\":\"white\",\"ticks\":\"\"}},\"scene\":{\"xaxis\":{\"backgroundcolor\":\"#E5ECF6\",\"gridcolor\":\"white\",\"gridwidth\":2,\"linecolor\":\"white\",\"showbackground\":true,\"ticks\":\"\",\"zerolinecolor\":\"white\"},\"yaxis\":{\"backgroundcolor\":\"#E5ECF6\",\"gridcolor\":\"white\",\"gridwidth\":2,\"linecolor\":\"white\",\"showbackground\":true,\"ticks\":\"\",\"zerolinecolor\":\"white\"},\"zaxis\":{\"backgroundcolor\":\"#E5ECF6\",\"gridcolor\":\"white\",\"gridwidth\":2,\"linecolor\":\"white\",\"showbackground\":true,\"ticks\":\"\",\"zerolinecolor\":\"white\"}},\"shapedefaults\":{\"line\":{\"color\":\"#2a3f5f\"}},\"ternary\":{\"aaxis\":{\"gridcolor\":\"white\",\"linecolor\":\"white\",\"ticks\":\"\"},\"baxis\":{\"gridcolor\":\"white\",\"linecolor\":\"white\",\"ticks\":\"\"},\"bgcolor\":\"#E5ECF6\",\"caxis\":{\"gridcolor\":\"white\",\"linecolor\":\"white\",\"ticks\":\"\"}},\"title\":{\"x\":0.05},\"xaxis\":{\"automargin\":true,\"gridcolor\":\"white\",\"linecolor\":\"white\",\"ticks\":\"\",\"title\":{\"standoff\":15},\"zerolinecolor\":\"white\",\"zerolinewidth\":2},\"yaxis\":{\"automargin\":true,\"gridcolor\":\"white\",\"linecolor\":\"white\",\"ticks\":\"\",\"title\":{\"standoff\":15},\"zerolinecolor\":\"white\",\"zerolinewidth\":2}}},\"xaxis\":{\"anchor\":\"y\",\"domain\":[0.0,1.0],\"title\":{\"text\":\"class\"}},\"yaxis\":{\"anchor\":\"x\",\"domain\":[0.0,1.0],\"title\":{\"text\":\"score\"}}},                        {\"responsive\": true}                    )                };                            </script>        </div>\n",
       "</body>\n",
       "</html>"
      ],
      "text/plain": [
       "<IPython.core.display.HTML object>"
      ]
     },
     "execution_count": 27,
     "metadata": {},
     "output_type": "execute_result"
    }
   ],
   "source": [
    "fig=px.box(data_frame=df,x='class',y='score')\n",
    "HTML(fig.to_html(include_plotlyjs='cdn',include_mathjax=False))"
   ]
  },
  {
   "cell_type": "code",
   "execution_count": null,
   "id": "7a2b22d4-a82a-49ab-9a8d-7a45bf358c3f",
   "metadata": {},
   "outputs": [],
   "source": []
  }
 ],
 "metadata": {
  "kernelspec": {
   "display_name": "Python 3 (ipykernel)",
   "language": "python",
   "name": "python3"
  },
  "language_info": {
   "codemirror_mode": {
    "name": "ipython",
    "version": 3
   },
   "file_extension": ".py",
   "mimetype": "text/x-python",
   "name": "python",
   "nbconvert_exporter": "python",
   "pygments_lexer": "ipython3",
   "version": "3.8.11"
  }
 },
 "nbformat": 4,
 "nbformat_minor": 5
}
