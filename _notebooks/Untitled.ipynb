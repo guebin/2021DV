{
 "cells": [
  {
   "cell_type": "markdown",
   "id": "2ac33c95-daa5-4013-a069-156f4a003141",
   "metadata": {},
   "source": [
    "https://youtu.be/SO9XqDva7eE"
   ]
  },
  {
   "cell_type": "code",
   "execution_count": null,
   "id": "48ae59b4-6313-49c4-a357-4655de4d4b1a",
   "metadata": {},
   "outputs": [],
   "source": []
  }
 ],
 "metadata": {
  "kernelspec": {
   "display_name": "Python 3",
   "language": "python",
   "name": "python3"
  },
  "language_info": {
   "codemirror_mode": {
    "name": "ipython",
    "version": 3
   },
   "file_extension": ".py",
   "mimetype": "text/x-python",
   "name": "python",
   "nbconvert_exporter": "python",
   "pygments_lexer": "ipython3",
   "version": "3.8.8"
  }
 },
 "nbformat": 4,
 "nbformat_minor": 5
}
