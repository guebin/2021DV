{
 "cells": [
  {
   "cell_type": "markdown",
   "id": "64bc0abe-1e4f-4abd-b42f-234ae9fa60f0",
   "metadata": {},
   "source": [
    "### 아이스크림을 많이 먹으면 걸리는 병 "
   ]
  },
  {
   "cell_type": "markdown",
   "id": "612590b5-272b-47a2-873c-f377cfc28b72",
   "metadata": {},
   "source": [
    "`-` ref- 데이터 과학자의 사고법: 더 나은 선택을 위한 통계학적 통찰의 힘 \n",
    "\n",
    "https://books.google.co.kr/books?id=qy4iEAAAQBAJ&pg=PT87&lpg=PT87&dq=%EC%95%84%EC%9D%B4%EC%8A%A4%ED%81%AC%EB%A6%BC%EC%9D%84+%EB%A7%8E%EC%9D%B4+%EB%A8%B9%EC%9C%BC%EB%A9%B4+%EA%B1%B8%EB%A6%AC%EB%8A%94+%EB%B3%91+%EC%86%8C%EC%95%84%EB%A7%88%EB%B9%84&source=bl&ots=V9B7ZG6oR-&sig=ACfU3U0UMd4ehuRXYxI69TT6lIlU-r91bA&hl=en&sa=X&ved=2ahUKEwj13JSV19LzAhVEGaYKHdgfDgcQ6AF6BAgCEAM#v=onepage&q=%EC%95%84%EC%9D%B4%EC%8A%A4%ED%81%AC%EB%A6%BC%EC%9D%84%20%EB%A7%8E%EC%9D%B4%20%EB%A8%B9%EC%9C%BC%EB%A9%B4%20%EA%B1%B8%EB%A6%AC%EB%8A%94%20%EB%B3%91%20%EC%86%8C%EC%95%84%EB%A7%88%EB%B9%84&f=false"
   ]
  },
  {
   "cell_type": "markdown",
   "id": "96978465-a45f-419a-9317-bf479ff43742",
   "metadata": {},
   "source": [
    "`-` 내용요약 \n",
    "\n",
    "- 여름 $\\to$ 수영장 $\\to$ 소아마비\n",
    "- 여름 $\\to$ 아이스크림 \n",
    "- 아이스크림과 소아마비는 상관관계가 높다: 아이스크림 성분중에서 소아마비를 유발하는 유해물질이 있을 것이다 (?) "
   ]
  },
  {
   "cell_type": "markdown",
   "id": "03f49b2b-8300-4577-802d-ea9293df54cb",
   "metadata": {},
   "source": [
    "`-` 아래와 같이 모형을 간단하게 하자. \n",
    "\n",
    "- 온도 $\\to$ 소아마비 \n",
    "- 온도 $\\to$ 아이스크림 "
   ]
  },
  {
   "cell_type": "markdown",
   "id": "bd234e63-4e7d-416d-a1fa-f64486bc29d5",
   "metadata": {},
   "source": [
    "### Toy exam "
   ]
  },
  {
   "cell_type": "code",
   "execution_count": 2,
   "id": "6259f829-d9be-4187-b789-745d3d00e3db",
   "metadata": {},
   "outputs": [],
   "source": [
    "import numpy as np \n",
    "import matplotlib.pyplot as plt \n",
    "import pandas as pd"
   ]
  },
  {
   "cell_type": "markdown",
   "id": "c22c747b-a9fe-4de1-b2f4-6561a00c0d3f",
   "metadata": {},
   "source": [
    "`-` 교재의 예제상황은 예를들면 아래와 같다. "
   ]
  },
  {
   "cell_type": "markdown",
   "id": "1c51fa8f-2b36-4139-a33b-45d91b84ab58",
   "metadata": {},
   "source": [
    "`-` 아이스크림 판매량 = 20 + 온도 $\\times$ 2 + $\\epsilon$"
   ]
  },
  {
   "cell_type": "code",
   "execution_count": 26,
   "id": "71431861-2ed9-4c9f-9203-76b586f73194",
   "metadata": {},
   "outputs": [],
   "source": [
    "np.random.seed(1) \n",
    "temp= np.array([-10.2, -5.2, 0.1, 10.1, 12.2, 14.7, \n",
    "                25.4, 26.8, 28.9, 35.1, 32.2, 34.6])\n",
    "ϵ1= np.random.normal(size=12,scale=5)\n",
    "icecream= 20 + temp * 2 + ϵ1 "
   ]
  },
  {
   "cell_type": "code",
   "execution_count": 27,
   "id": "d8069321-52e9-45a9-b2f7-c98a10b882c6",
   "metadata": {},
   "outputs": [
    {
     "data": {
      "text/plain": [
       "[<matplotlib.lines.Line2D at 0x7fc550768e80>]"
      ]
     },
     "execution_count": 27,
     "metadata": {},
     "output_type": "execute_result"
    },
    {
     "data": {
      "image/png": "[encoded data removed]",
      "text/plain": [
       "<Figure size 432x288 with 1 Axes>"
      ]
     },
     "metadata": {
      "needs_background": "light"
     },
     "output_type": "display_data"
    }
   ],
   "source": [
    "plt.plot(temp,icecream,'.')"
   ]
  },
  {
   "cell_type": "markdown",
   "id": "d5923bc0-e719-4bb9-a7fe-93381bc9b314",
   "metadata": {},
   "source": [
    "- 온도와 아이스크림 판매량의 산점도 "
   ]
  },
  {
   "cell_type": "markdown",
   "id": "b388dacf-2e3c-4c3a-a7e1-5a33694e87f7",
   "metadata": {},
   "source": [
    "`-` 소아마비 = 30 + 온도 $\\times$ 0.5 + $\\epsilon^*$"
   ]
  },
  {
   "cell_type": "code",
   "execution_count": 28,
   "id": "2190d374-7f27-444c-b450-c119a771b77f",
   "metadata": {},
   "outputs": [],
   "source": [
    "np.random.seed(2) \n",
    "ϵ2= np.random.normal(size=12,scale=5) \n",
    "disease = 30+ temp* 0.5 + ϵ2"
   ]
  },
  {
   "cell_type": "code",
   "execution_count": 29,
   "id": "4e57ab6e-5477-4a27-9514-d5f5bf279458",
   "metadata": {},
   "outputs": [
    {
     "data": {
      "text/plain": [
       "[<matplotlib.lines.Line2D at 0x7fc550480c40>]"
      ]
     },
     "execution_count": 29,
     "metadata": {},
     "output_type": "execute_result"
    },
    {
     "data": {
      "image/png": "[encoded data removed]",
      "text/plain": [
       "<Figure size 432x288 with 1 Axes>"
      ]
     },
     "metadata": {
      "needs_background": "light"
     },
     "output_type": "display_data"
    }
   ],
   "source": [
    "plt.plot(temp,disease,'.')"
   ]
  },
  {
   "cell_type": "markdown",
   "id": "b632a6c3-247f-47db-a1ff-b972b590af1f",
   "metadata": {},
   "source": [
    "- 온도와 소아마비의 산점도 "
   ]
  },
  {
   "cell_type": "markdown",
   "id": "bf0efd79-1cc2-44ab-8418-32795d542a83",
   "metadata": {},
   "source": [
    "`-` 아이스크림과 질병의 산점도를 그려보자. "
   ]
  },
  {
   "cell_type": "code",
   "execution_count": 30,
   "id": "2402537a-3a14-4a7d-8c13-a30498940254",
   "metadata": {},
   "outputs": [
    {
     "data": {
      "text/plain": [
       "[<matplotlib.lines.Line2D at 0x7fc55071b5e0>]"
      ]
     },
     "execution_count": 30,
     "metadata": {},
     "output_type": "execute_result"
    },
    {
     "data": {
      "image/png": "[encoded data removed]",
      "text/plain": [
       "<Figure size 432x288 with 1 Axes>"
      ]
     },
     "metadata": {
      "needs_background": "light"
     },
     "output_type": "display_data"
    }
   ],
   "source": [
    "plt.plot(icecream,disease,'.')"
   ]
  },
  {
   "cell_type": "markdown",
   "id": "79160e7d-7945-45bc-aae7-0d877eec2976",
   "metadata": {},
   "source": [
    "- 양의 상관관계에 있다. "
   ]
  },
  {
   "cell_type": "markdown",
   "id": "4b4c8fd3-e4fd-4a75-a430-757906356385",
   "metadata": {},
   "source": [
    "`-` 아이스크림 중 어떠한 물질이 소아마비를 일으키는것이 분명하므로 (인과성이 분명해보이니까) 아래와 같은 모형을 세우자. <-- 여기서부터 틀렸음 "
   ]
  },
  {
   "cell_type": "markdown",
   "id": "f237ef63-d635-4408-a9b2-c374e1b923e6",
   "metadata": {},
   "source": [
    "$${\\tt disease}_i =\\beta_0 +\\beta_1 {\\tt icecream}_i +\\epsilon_i,\\quad \\textbf{for} ~~ i=1,2,\\dots, 12$$"
   ]
  },
  {
   "cell_type": "markdown",
   "id": "b7330131-0f1a-4b58-bb53-99f69a0edc02",
   "metadata": {},
   "source": [
    "`-` 적절한 $\\beta_0$와 $\\beta_1$을 추정하면 우리는 아이스크림과 소아마비의 관계를 알 수 있다. <-- 틀린주장 \n",
    "- 틀린 모형 \n",
    "- 도데체 우리가 뭘 잘못했는가? "
   ]
  },
  {
   "cell_type": "markdown",
   "id": "d2fccdd9-cf8a-44f6-8c23-6bc9ab8c3897",
   "metadata": {},
   "source": [
    "`-` 두 변수 사이에 상관관계가 있어도 실제 원인은 다른 변수에 숨겨져 있는 경우가 많다. \n",
    "\n",
    "- 예제의상황: 아이스크림과 익사자도 양의 상관관계에 있을것이다. \n",
    "- 아이스크림을 먹이면 물에 빠져 죽는다 $\\to$ 틀린주장 \n",
    "- 사실 기온이 숨겨진 원인이다. 기온이 증가하면 아이스크림 판매량도 증가하고 폭염때문에 익사사고율도 높아지는 구조이다. "
   ]
  },
  {
   "cell_type": "markdown",
   "id": "29027af6-8167-4723-a61e-107277204704",
   "metadata": {},
   "source": [
    "`-` 아래와 같은 예제를 생각하자. \n",
    "\n",
    "- 인구수 $\\to$ 교회 \n",
    "- 인구수 $\\to$ 범죄건수 \n",
    "- 지역별 교회와 범죄건수를 살펴보면 상관관계가 높게 나올것임 \n"
   ]
  },
  {
   "cell_type": "markdown",
   "id": "8a2627b5-966b-41a9-9235-bd0341734f68",
   "metadata": {},
   "source": [
    "`-` 교회를 많이 지으면 범죄건수도 증가한다? \n",
    "- 사실 그렇지 않다. \n",
    "- 인구수가 비슷한 도시끼리 묶어서 비교해보면 교회와 범죄건수는 양의 상관관계에 있지 않을것임 "
   ]
  },
  {
   "cell_type": "markdown",
   "id": "53f5227a-9a5e-4bdb-9a42-af0e175d7e91",
   "metadata": {},
   "source": [
    "`-` 올바른 분석: 온도가 비슷한 그룹끼리 묶어서 그려보자. $\\to$ 상관계수가 줄어들 것이다. "
   ]
  },
  {
   "cell_type": "code",
   "execution_count": 33,
   "id": "9917db61-766e-48f3-a77e-0511239cbcf4",
   "metadata": {},
   "outputs": [
    {
     "data": {
      "text/plain": [
       "[<matplotlib.lines.Line2D at 0x7fc54dd5aac0>]"
      ]
     },
     "execution_count": 33,
     "metadata": {},
     "output_type": "execute_result"
    },
    {
     "data": {
      "image/png": "[encoded data removed]",
      "text/plain": [
       "<Figure size 432x288 with 1 Axes>"
      ]
     },
     "metadata": {
      "needs_background": "light"
     },
     "output_type": "display_data"
    }
   ],
   "source": [
    "plt.plot(icecream[:6],disease[:6],'.')"
   ]
  },
  {
   "cell_type": "code",
   "execution_count": 34,
   "id": "552df536-7e45-4c99-b34a-cabac6104192",
   "metadata": {},
   "outputs": [
    {
     "data": {
      "text/plain": [
       "[<matplotlib.lines.Line2D at 0x7fc54db7ee20>]"
      ]
     },
     "execution_count": 34,
     "metadata": {},
     "output_type": "execute_result"
    },
    {
     "data": {
      "image/png": "[encoded data removed]",
      "text/plain": [
       "<Figure size 432x288 with 1 Axes>"
      ]
     },
     "metadata": {
      "needs_background": "light"
     },
     "output_type": "display_data"
    }
   ],
   "source": [
    "plt.plot(icecream[6:],disease[6:],'.')"
   ]
  },
  {
   "cell_type": "markdown",
   "id": "2cde4061-1f27-4154-87a2-e6e9ffa3fd6e",
   "metadata": {},
   "source": [
    "`-` 진짜로 선형관계가 약해졌다.. "
   ]
  },
  {
   "cell_type": "markdown",
   "id": "c49522a2-e435-414c-a350-634b1659d731",
   "metadata": {},
   "source": [
    "### 좀 더 그럴듯한 자료 "
   ]
  },
  {
   "cell_type": "markdown",
   "id": "9c9a4650-b342-4b15-9e2c-9c564e85a05b",
   "metadata": {},
   "source": [
    "`-` 위의 toy example은 데이터가 너무 작아서 억지스러움 "
   ]
  },
  {
   "cell_type": "code",
   "execution_count": 36,
   "id": "e0956dfa-dc44-484e-8937-2813cbb114cd",
   "metadata": {},
   "outputs": [],
   "source": [
    "df=pd.read_csv('extremum.csv')"
   ]
  },
  {
   "cell_type": "code",
   "execution_count": 37,
   "id": "a548a1a7-5812-4e35-9b90-a75e6c73dfcb",
   "metadata": {},
   "outputs": [
    {
     "data": {
      "text/html": [
       "<div>\n",
       "<style scoped>\n",
       "    .dataframe tbody tr th:only-of-type {\n",
       "        vertical-align: middle;\n",
       "    }\n",
       "\n",
       "    .dataframe tbody tr th {\n",
       "        vertical-align: top;\n",
       "    }\n",
       "\n",
       "    .dataframe thead th {\n",
       "        text-align: right;\n",
       "    }\n",
       "</style>\n",
       "<table border=\"1\" class=\"dataframe\">\n",
       "  <thead>\n",
       "    <tr style=\"text-align: right;\">\n",
       "      <th></th>\n",
       "      <th>지점번호</th>\n",
       "      <th>지점명</th>\n",
       "      <th>일시</th>\n",
       "      <th>평균기온(℃)</th>\n",
       "      <th>최고기온(℃)</th>\n",
       "      <th>최고기온시각</th>\n",
       "      <th>최저기온(℃)</th>\n",
       "      <th>최저기온시각일교차</th>\n",
       "      <th>Unnamed: 8</th>\n",
       "    </tr>\n",
       "  </thead>\n",
       "  <tbody>\n",
       "    <tr>\n",
       "      <th>0</th>\n",
       "      <td>146</td>\n",
       "      <td>전주</td>\n",
       "      <td>2020-01-01</td>\n",
       "      <td>-0.5</td>\n",
       "      <td>4.3</td>\n",
       "      <td>15:09</td>\n",
       "      <td>-6.4</td>\n",
       "      <td>1:42</td>\n",
       "      <td>10.7</td>\n",
       "    </tr>\n",
       "    <tr>\n",
       "      <th>1</th>\n",
       "      <td>146</td>\n",
       "      <td>전주</td>\n",
       "      <td>2020-01-02</td>\n",
       "      <td>1.4</td>\n",
       "      <td>6.5</td>\n",
       "      <td>14:12</td>\n",
       "      <td>-3.0</td>\n",
       "      <td>7:55</td>\n",
       "      <td>9.5</td>\n",
       "    </tr>\n",
       "    <tr>\n",
       "      <th>2</th>\n",
       "      <td>146</td>\n",
       "      <td>전주</td>\n",
       "      <td>2020-01-03</td>\n",
       "      <td>2.6</td>\n",
       "      <td>7.6</td>\n",
       "      <td>13:32</td>\n",
       "      <td>-0.5</td>\n",
       "      <td>23:53</td>\n",
       "      <td>8.1</td>\n",
       "    </tr>\n",
       "    <tr>\n",
       "      <th>3</th>\n",
       "      <td>146</td>\n",
       "      <td>전주</td>\n",
       "      <td>2020-01-04</td>\n",
       "      <td>2.0</td>\n",
       "      <td>7.7</td>\n",
       "      <td>13:51</td>\n",
       "      <td>-2.6</td>\n",
       "      <td>5:30</td>\n",
       "      <td>10.3</td>\n",
       "    </tr>\n",
       "    <tr>\n",
       "      <th>4</th>\n",
       "      <td>146</td>\n",
       "      <td>전주</td>\n",
       "      <td>2020-01-05</td>\n",
       "      <td>2.5</td>\n",
       "      <td>8.6</td>\n",
       "      <td>14:05</td>\n",
       "      <td>-3.2</td>\n",
       "      <td>7:36</td>\n",
       "      <td>11.8</td>\n",
       "    </tr>\n",
       "    <tr>\n",
       "      <th>...</th>\n",
       "      <td>...</td>\n",
       "      <td>...</td>\n",
       "      <td>...</td>\n",
       "      <td>...</td>\n",
       "      <td>...</td>\n",
       "      <td>...</td>\n",
       "      <td>...</td>\n",
       "      <td>...</td>\n",
       "      <td>...</td>\n",
       "    </tr>\n",
       "    <tr>\n",
       "      <th>651</th>\n",
       "      <td>146</td>\n",
       "      <td>전주</td>\n",
       "      <td>2021-10-13</td>\n",
       "      <td>19.9</td>\n",
       "      <td>25.5</td>\n",
       "      <td>14:29</td>\n",
       "      <td>15.6</td>\n",
       "      <td>3:49</td>\n",
       "      <td>9.9</td>\n",
       "    </tr>\n",
       "    <tr>\n",
       "      <th>652</th>\n",
       "      <td>146</td>\n",
       "      <td>전주</td>\n",
       "      <td>2021-10-14</td>\n",
       "      <td>20.4</td>\n",
       "      <td>25.5</td>\n",
       "      <td>13:36</td>\n",
       "      <td>17.0</td>\n",
       "      <td>6:15</td>\n",
       "      <td>8.5</td>\n",
       "    </tr>\n",
       "    <tr>\n",
       "      <th>653</th>\n",
       "      <td>146</td>\n",
       "      <td>전주</td>\n",
       "      <td>2021-10-15</td>\n",
       "      <td>18.3</td>\n",
       "      <td>22.0</td>\n",
       "      <td>13:47</td>\n",
       "      <td>15.7</td>\n",
       "      <td>4:48</td>\n",
       "      <td>6.3</td>\n",
       "    </tr>\n",
       "    <tr>\n",
       "      <th>654</th>\n",
       "      <td>146</td>\n",
       "      <td>전주</td>\n",
       "      <td>2021-10-16</td>\n",
       "      <td>12.8</td>\n",
       "      <td>17.4</td>\n",
       "      <td>0:01</td>\n",
       "      <td>6.5</td>\n",
       "      <td>23:31</td>\n",
       "      <td>10.9</td>\n",
       "    </tr>\n",
       "    <tr>\n",
       "      <th>655</th>\n",
       "      <td>146</td>\n",
       "      <td>전주</td>\n",
       "      <td>2021-10-17</td>\n",
       "      <td>6.7</td>\n",
       "      <td>12.4</td>\n",
       "      <td>15:18</td>\n",
       "      <td>2.2</td>\n",
       "      <td>6:43</td>\n",
       "      <td>10.2</td>\n",
       "    </tr>\n",
       "  </tbody>\n",
       "</table>\n",
       "<p>656 rows × 9 columns</p>\n",
       "</div>"
      ],
      "text/plain": [
       "     지점번호 지점명          일시  평균기온(℃)  최고기온(℃) 최고기온시각  최저기온(℃) 최저기온시각일교차  \\\n",
       "0     146  전주  2020-01-01     -0.5      4.3  15:09     -6.4      1:42   \n",
       "1     146  전주  2020-01-02      1.4      6.5  14:12     -3.0      7:55   \n",
       "2     146  전주  2020-01-03      2.6      7.6  13:32     -0.5     23:53   \n",
       "3     146  전주  2020-01-04      2.0      7.7  13:51     -2.6      5:30   \n",
       "4     146  전주  2020-01-05      2.5      8.6  14:05     -3.2      7:36   \n",
       "..    ...  ..         ...      ...      ...    ...      ...       ...   \n",
       "651   146  전주  2021-10-13     19.9     25.5  14:29     15.6      3:49   \n",
       "652   146  전주  2021-10-14     20.4     25.5  13:36     17.0      6:15   \n",
       "653   146  전주  2021-10-15     18.3     22.0  13:47     15.7      4:48   \n",
       "654   146  전주  2021-10-16     12.8     17.4   0:01      6.5     23:31   \n",
       "655   146  전주  2021-10-17      6.7     12.4  15:18      2.2      6:43   \n",
       "\n",
       "     Unnamed: 8  \n",
       "0          10.7  \n",
       "1           9.5  \n",
       "2           8.1  \n",
       "3          10.3  \n",
       "4          11.8  \n",
       "..          ...  \n",
       "651         9.9  \n",
       "652         8.5  \n",
       "653         6.3  \n",
       "654        10.9  \n",
       "655        10.2  \n",
       "\n",
       "[656 rows x 9 columns]"
      ]
     },
     "execution_count": 37,
     "metadata": {},
     "output_type": "execute_result"
    }
   ],
   "source": [
    "df"
   ]
  },
  {
   "cell_type": "markdown",
   "id": "0e209ad5-eb51-4e5a-82ef-82bbc66c8dd0",
   "metadata": {},
   "source": [
    "`-` 평균기온만 선택하여 뽑자. "
   ]
  },
  {
   "cell_type": "code",
   "execution_count": 38,
   "id": "50d1b24f-1d24-4c07-a5c4-75b048ceb03f",
   "metadata": {},
   "outputs": [
    {
     "data": {
      "text/plain": [
       "0          지점번호\n",
       "1           지점명\n",
       "2            일시\n",
       "3       평균기온(℃)\n",
       "4       최고기온(℃)\n",
       "5        최고기온시각\n",
       "6       최저기온(℃)\n",
       "7     최저기온시각일교차\n",
       "8    Unnamed: 8\n",
       "dtype: object"
      ]
     },
     "execution_count": 38,
     "metadata": {},
     "output_type": "execute_result"
    }
   ],
   "source": [
    "pd.Series(df.columns)"
   ]
  },
  {
   "cell_type": "code",
   "execution_count": 40,
   "id": "4db150bc-32a7-466f-89ba-8c9bda113a83",
   "metadata": {},
   "outputs": [],
   "source": [
    "temp=np.array(df.iloc[:,3])"
   ]
  },
  {
   "cell_type": "code",
   "execution_count": 42,
   "id": "a8749b11-d9cc-4681-a4a4-83a305e1dd42",
   "metadata": {},
   "outputs": [
    {
     "data": {
      "text/plain": [
       "656"
      ]
     },
     "execution_count": 42,
     "metadata": {},
     "output_type": "execute_result"
    }
   ],
   "source": [
    "len(temp)"
   ]
  },
  {
   "cell_type": "markdown",
   "id": "bbcb11f4-b2d9-40a9-a8b3-52b02423f07a",
   "metadata": {},
   "source": [
    "`-` 아이스크림 판매량 "
   ]
  },
  {
   "cell_type": "code",
   "execution_count": 43,
   "id": "d3b28a28-c2c4-424b-91e5-e98603ba6d2d",
   "metadata": {},
   "outputs": [],
   "source": [
    "np.random.seed(1)\n",
    "ϵ1=np.random.normal(size=656, scale=10) \n",
    "icecream=temp*2 + 30 + ϵ1 "
   ]
  },
  {
   "cell_type": "code",
   "execution_count": 44,
   "id": "9ce7681c-78e6-41bf-998e-8bfe810a3a71",
   "metadata": {},
   "outputs": [
    {
     "data": {
      "text/plain": [
       "[<matplotlib.lines.Line2D at 0x7fc54cbd7310>]"
      ]
     },
     "execution_count": 44,
     "metadata": {},
     "output_type": "execute_result"
    },
    {
     "data": {
      "image/png": "[encoded data removed]",
      "text/plain": [
       "<Figure size 432x288 with 1 Axes>"
      ]
     },
     "metadata": {
      "needs_background": "light"
     },
     "output_type": "display_data"
    }
   ],
   "source": [
    "plt.plot(temp,icecream,'.')"
   ]
  },
  {
   "cell_type": "markdown",
   "id": "acf42ae8-0294-4ff8-901b-dee0d62a442d",
   "metadata": {},
   "source": [
    "`-` 소아마비"
   ]
  },
  {
   "cell_type": "code",
   "execution_count": 45,
   "id": "0407461b-c6d5-45a0-a2c3-aa205e2ff93c",
   "metadata": {},
   "outputs": [],
   "source": [
    "np.random.seed(2) \n",
    "ϵ2=np.random.normal(size=656,scale=1)\n",
    "disease=temp*0.5 + 40 +ϵ2"
   ]
  },
  {
   "cell_type": "code",
   "execution_count": 46,
   "id": "2da5bdde-13d6-4fca-b203-aa8ef1bbd7f9",
   "metadata": {},
   "outputs": [
    {
     "data": {
      "text/plain": [
       "[<matplotlib.lines.Line2D at 0x7fc54d1dba30>]"
      ]
     },
     "execution_count": 46,
     "metadata": {},
     "output_type": "execute_result"
    },
    {
     "data": {
      "image/png": "[encoded data removed]",
      "text/plain": [
       "<Figure size 432x288 with 1 Axes>"
      ]
     },
     "metadata": {
      "needs_background": "light"
     },
     "output_type": "display_data"
    }
   ],
   "source": [
    "plt.plot(temp,disease,'.')"
   ]
  },
  {
   "cell_type": "markdown",
   "id": "55915029-34b9-447e-b657-4a2bf4272e52",
   "metadata": {},
   "source": [
    "`-` 아이스크림과 소아마비"
   ]
  },
  {
   "cell_type": "code",
   "execution_count": 48,
   "id": "f3c768df-6f6d-4e08-879b-8d79078a8314",
   "metadata": {},
   "outputs": [
    {
     "data": {
      "text/plain": [
       "[<matplotlib.lines.Line2D at 0x7fc54c9bdbe0>]"
      ]
     },
     "execution_count": 48,
     "metadata": {},
     "output_type": "execute_result"
    },
    {
     "data": {
      "image/png": "[encoded data removed]",
      "text/plain": [
       "<Figure size 432x288 with 1 Axes>"
      ]
     },
     "metadata": {
      "needs_background": "light"
     },
     "output_type": "display_data"
    }
   ],
   "source": [
    "plt.plot(icecream,disease,'.')"
   ]
  },
  {
   "cell_type": "code",
   "execution_count": 49,
   "id": "57eddd56-8a14-4837-98d8-26c4d9cde569",
   "metadata": {},
   "outputs": [
    {
     "data": {
      "text/plain": [
       "array([[1.        , 0.86298975],\n",
       "       [0.86298975, 1.        ]])"
      ]
     },
     "execution_count": 49,
     "metadata": {},
     "output_type": "execute_result"
    }
   ],
   "source": [
    "np.corrcoef(icecream,disease)"
   ]
  },
  {
   "cell_type": "markdown",
   "id": "32f60fb6-ce87-4e8d-a597-62fa0b88b705",
   "metadata": {},
   "source": [
    "- 0.86정도.. "
   ]
  },
  {
   "cell_type": "markdown",
   "id": "d09b92be-e10b-4d70-9524-239f52e05beb",
   "metadata": {},
   "source": [
    "`-` 여름만 뽑아서 그러보면? "
   ]
  },
  {
   "cell_type": "code",
   "execution_count": 51,
   "id": "79f8efc7-44bc-4acc-bf4a-5b05f737cc02",
   "metadata": {},
   "outputs": [
    {
     "data": {
      "text/plain": [
       "[<matplotlib.lines.Line2D at 0x7fc54bfed730>]"
      ]
     },
     "execution_count": 51,
     "metadata": {},
     "output_type": "execute_result"
    },
    {
     "data": {
      "image/png": "[encoded data removed]",
      "text/plain": [
       "<Figure size 432x288 with 1 Axes>"
      ]
     },
     "metadata": {
      "needs_background": "light"
     },
     "output_type": "display_data"
    }
   ],
   "source": [
    "plt.plot(icecream[temp>25],disease[temp>25], '.') ## 평균기온이 25도가 넘어가면 여름"
   ]
  },
  {
   "cell_type": "markdown",
   "id": "aeb877ea-e165-450a-a54a-f814a18b95d2",
   "metadata": {},
   "source": [
    "`-` 산점도 "
   ]
  },
  {
   "cell_type": "code",
   "execution_count": 52,
   "id": "37c9ae45-4752-43fe-b311-94bf48681c22",
   "metadata": {},
   "outputs": [
    {
     "data": {
      "text/plain": [
       "[<matplotlib.lines.Line2D at 0x7fc54bedae20>]"
      ]
     },
     "execution_count": 52,
     "metadata": {},
     "output_type": "execute_result"
    },
    {
     "data": {
      "image/png": "[encoded data removed]",
      "text/plain": [
       "<Figure size 432x288 with 4 Axes>"
      ]
     },
     "metadata": {
      "needs_background": "light"
     },
     "output_type": "display_data"
    }
   ],
   "source": [
    "fig , ((ax1,ax2), (ax3,ax4)) = plt.subplots(2,2) \n",
    "ax1.plot(temp,icecream,'.')\n",
    "ax2.plot(temp,disease,'.')\n",
    "ax3.plot(icecream,disease,'.')\n",
    "ax4.plot(icecream[temp>25],disease[temp>25],'.')"
   ]
  },
  {
   "cell_type": "code",
   "execution_count": 53,
   "id": "981f5813-0ac8-4a17-913c-c19e341dbf47",
   "metadata": {},
   "outputs": [
    {
     "data": {
      "text/plain": [
       "[<matplotlib.lines.Line2D at 0x7fc54b93dd00>]"
      ]
     },
     "execution_count": 53,
     "metadata": {},
     "output_type": "execute_result"
    },
    {
     "data": {
      "image/png": "[encoded data removed]",
      "text/plain": [
       "<Figure size 432x288 with 4 Axes>"
      ]
     },
     "metadata": {
      "needs_background": "light"
     },
     "output_type": "display_data"
    }
   ],
   "source": [
    "fig , ((ax1,ax2), (ax3,ax4)) = plt.subplots(2,2) \n",
    "ax1.plot(temp,icecream,'.')\n",
    "ax2.plot(temp,disease,'.')\n",
    "ax3.plot(icecream,disease,'.')\n",
    "ax4.plot(icecream,disease,'.')\n",
    "ax4.plot(icecream[temp>25],disease[temp>25],'.')"
   ]
  },
  {
   "cell_type": "code",
   "execution_count": null,
   "id": "255a1c37-7788-4fd9-a1f4-0952b5e6a412",
   "metadata": {},
   "outputs": [],
   "source": [
    "I’m "
   ]
  }
 ],
 "metadata": {
  "kernelspec": {
   "display_name": "Python 3 (ipykernel)",
   "language": "python",
   "name": "python3"
  },
  "language_info": {
   "codemirror_mode": {
    "name": "ipython",
    "version": 3
   },
   "file_extension": ".py",
   "mimetype": "text/x-python",
   "name": "python",
   "nbconvert_exporter": "python",
   "pygments_lexer": "ipython3",
   "version": "3.8.11"
  }
 },
 "nbformat": 4,
 "nbformat_minor": 5
}
