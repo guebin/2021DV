{
 "cells": [
  {
   "cell_type": "markdown",
   "id": "08ea9bba-8860-4966-84ef-aa24325f3858",
   "metadata": {},
   "source": [
    "# (A1) 깃허브와 fastpages를 이용하여 블로그 개설하기\n",
    "> Awesome summary\n",
    "\n",
    "- toc:true\n",
    "- branch: master\n",
    "- badges: true\n",
    "- comments: true\n",
    "- author: 최규빈"
   ]
  },
  {
   "cell_type": "markdown",
   "id": "2913ca9f-db7c-4bc4-97cd-471addacf9a7",
   "metadata": {},
   "source": [
    "> youtube: https://youtu.be/SO9XqDva7eE"
   ]
  },
  {
   "cell_type": "markdown",
   "id": "2dc81189-e55d-4bcd-a889-df210efba812",
   "metadata": {},
   "source": [
    "> youtube: https://www.youtube.com/playlist?list=PLQqh36zP38-xI1-mlPSueDciioHswslU9"
   ]
  },
  {
   "cell_type": "markdown",
   "id": "2ac33c95-daa5-4013-a069-156f4a003141",
   "metadata": {},
   "source": [
    "https://youtu.be/SO9XqDva7eE"
   ]
  },
  {
   "cell_type": "markdown",
   "id": "aaae14a9-41a7-47b2-ba2d-608fe8234422",
   "metadata": {},
   "source": [
    "https://www.youtube.com/playlist?list=PLQqh36zP38-xI1-mlPSueDciioHswslU9"
   ]
  },
  {
   "cell_type": "code",
   "execution_count": null,
   "id": "735a2208-2968-44eb-b57a-826da4931e1e",
   "metadata": {},
   "outputs": [],
   "source": []
  }
 ],
 "metadata": {
  "kernelspec": {
   "display_name": "Python 3",
   "language": "python",
   "name": "python3"
  },
  "language_info": {
   "codemirror_mode": {
    "name": "ipython",
    "version": 3
   },
   "file_extension": ".py",
   "mimetype": "text/x-python",
   "name": "python",
   "nbconvert_exporter": "python",
   "pygments_lexer": "ipython3",
   "version": "3.8.8"
  }
 },
 "nbformat": 4,
 "nbformat_minor": 5
}
