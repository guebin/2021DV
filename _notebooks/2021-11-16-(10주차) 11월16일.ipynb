{
 "cells": [
  {
   "cell_type": "markdown",
   "id": "cac470df-29e7-4148-9bbd-d8b9a32fa570",
   "metadata": {
    "tags": []
   },
   "source": [
    "# (10주차) 11월16일 \n",
    "> 카이로의 The Functional Art\n",
    "\n",
    "- toc:true\n",
    "- branch: master\n",
    "- badges: true\n",
    "- comments: true\n",
    "- author: 최규빈"
   ]
  },
  {
   "cell_type": "markdown",
   "id": "ba110157-b278-4ca9-9f44-696a9306dd1e",
   "metadata": {
    "tags": []
   },
   "source": [
    "### ref "
   ]
  },
  {
   "cell_type": "markdown",
   "id": "c65746bf-6226-4e8c-bec4-c8ead5cd4575",
   "metadata": {},
   "source": [
    "Cairo, A. Functional Art, The: An Introduction to Information Graphics and Visualization, New Riders, 2012. San Francisco, US."
   ]
  },
  {
   "cell_type": "markdown",
   "id": "793e93e1-396f-4df8-a905-c7ed0adf9c03",
   "metadata": {},
   "source": [
    "![](https://github.com/guebin/2021DV/blob/master/_notebooks/2021-11-16-FIG1.png?raw=true)"
   ]
  },
  {
   "cell_type": "markdown",
   "id": "1d2f7af1-7b4b-433f-b37c-abde458b9c76",
   "metadata": {},
   "source": [
    "![](https://github.com/guebin/2021DV/blob/master/_notebooks/2021-11-16-FIG2.png?raw=true)"
   ]
  },
  {
   "cell_type": "markdown",
   "id": "00b20604-0c4e-429d-8694-b0de62769e1e",
   "metadata": {},
   "source": [
    "![](https://github.com/guebin/2021DV/blob/master/_notebooks/2021-11-16-FIG3.png?raw=true)"
   ]
  },
  {
   "cell_type": "markdown",
   "id": "374fef0a-7f46-4ce2-858b-2eaffe36da0e",
   "metadata": {},
   "source": [
    "---"
   ]
  },
  {
   "cell_type": "markdown",
   "id": "147baa6a-81e4-4573-81a5-7f2fe828e24a",
   "metadata": {},
   "source": [
    "![](https://github.com/guebin/2021DV/blob/master/_notebooks/2021-11-16-FIG5.png?raw=true)"
   ]
  },
  {
   "cell_type": "markdown",
   "id": "f9614ae9-920a-4cf6-a5e1-e568d3c7cb88",
   "metadata": {},
   "source": [
    "---"
   ]
  },
  {
   "cell_type": "markdown",
   "id": "839842b4-d89b-40f8-a6c7-89b8f789cce1",
   "metadata": {},
   "source": [
    "![](https://github.com/guebin/2021DV/blob/master/_notebooks/2021-11-16-FIG6.png?raw=true)"
   ]
  },
  {
   "cell_type": "markdown",
   "id": "b9ac47b8-38bd-41ed-b8f3-82f548ac16f9",
   "metadata": {},
   "source": [
    "---"
   ]
  },
  {
   "cell_type": "markdown",
   "id": "c4823919-c16d-4bdd-b072-9c90095e1aa0",
   "metadata": {},
   "source": [
    "![](https://github.com/guebin/2021DV/blob/master/_notebooks/2021-11-16-FIG7.png?raw=true)"
   ]
  },
  {
   "cell_type": "markdown",
   "id": "ca5063ac-aa1e-4bf0-bb3b-9b44a84ae1e6",
   "metadata": {},
   "source": [
    "![](https://github.com/guebin/2021DV/blob/master/_notebooks/2021-11-16-FIG8.png?raw=true)"
   ]
  },
  {
   "cell_type": "markdown",
   "id": "55c60aff-6892-45a0-9a74-5f42197aac0d",
   "metadata": {},
   "source": [
    "![](https://github.com/guebin/2021DV/blob/master/_notebooks/2021-11-16-FIG9.png?raw=true)"
   ]
  },
  {
   "cell_type": "markdown",
   "id": "c9d94b3d-4575-4d3d-9cfe-056efdd9dafd",
   "metadata": {},
   "source": [
    "![](https://github.com/guebin/2021DV/blob/master/_notebooks/2021-11-16-FIG10.png?raw=true)"
   ]
  },
  {
   "cell_type": "markdown",
   "id": "b02db5ca-754e-43e4-a4d2-fcd8908b78fe",
   "metadata": {},
   "source": [
    "![](https://github.com/guebin/2021DV/blob/master/_notebooks/2021-11-16-FIG11.png?raw=true)"
   ]
  },
  {
   "cell_type": "markdown",
   "id": "2ae15749-a0e2-4434-af76-decaeb4ddcf7",
   "metadata": {},
   "source": [
    "---"
   ]
  },
  {
   "cell_type": "markdown",
   "id": "369de361-9329-4a6b-a13d-554497549f35",
   "metadata": {},
   "source": [
    "![](https://github.com/guebin/2021DV/blob/master/_notebooks/2021-11-16-FIG12.png?raw=true)"
   ]
  },
  {
   "cell_type": "markdown",
   "id": "12b99b6d-3c51-4388-b3f2-1ceb91d7a9d8",
   "metadata": {},
   "source": [
    "![](https://github.com/guebin/2021DV/blob/master/_notebooks/2021-11-16-FIG13.png?raw=true)"
   ]
  },
  {
   "cell_type": "markdown",
   "id": "e8849186-cd1d-4e30-9ae6-0a9690341e5a",
   "metadata": {},
   "source": [
    "--- "
   ]
  },
  {
   "cell_type": "markdown",
   "id": "715d6800-057b-45d5-9e6e-479d39575877",
   "metadata": {},
   "source": [
    "![](https://github.com/guebin/2021DV/blob/master/_notebooks/2021-11-16-FIG14.png?raw=true)"
   ]
  },
  {
   "cell_type": "markdown",
   "id": "1b1d506c-3229-49ea-bdbe-b7a6a98f6a68",
   "metadata": {},
   "source": [
    "![](https://github.com/guebin/2021DV/blob/master/_notebooks/2021-11-16-FIG15.png?raw=true)"
   ]
  },
  {
   "cell_type": "markdown",
   "id": "f8209248-4453-4865-a478-9f59f49f2897",
   "metadata": {},
   "source": [
    "![](https://github.com/guebin/2021DV/blob/master/_notebooks/2021-11-16-FIG16.png?raw=true)"
   ]
  },
  {
   "cell_type": "markdown",
   "id": "287c2cf3-a89b-48a5-9e3c-daf49a0a059b",
   "metadata": {},
   "source": [
    "--- "
   ]
  },
  {
   "cell_type": "markdown",
   "id": "9daa0136-0c9c-4fb3-9f22-af57562e971f",
   "metadata": {},
   "source": [
    "![](https://github.com/guebin/2021DV/blob/master/_notebooks/2021-11-16-FIG17.png?raw=true)"
   ]
  },
  {
   "cell_type": "markdown",
   "id": "ee444bf8-a890-4841-bd85-02ac37b1778e",
   "metadata": {},
   "source": [
    "---"
   ]
  },
  {
   "cell_type": "markdown",
   "id": "5d31a923-5e40-4e97-9ffa-e69ec17832bb",
   "metadata": {},
   "source": [
    "![](https://github.com/guebin/2021DV/blob/master/_notebooks/2021-11-16-FIG18.png?raw=true)"
   ]
  },
  {
   "cell_type": "code",
   "execution_count": null,
   "id": "b5870c36-68ff-49b5-a143-873804500859",
   "metadata": {},
   "outputs": [],
   "source": []
  }
 ],
 "metadata": {
  "kernelspec": {
   "display_name": "Python 3",
   "language": "python",
   "name": "python3"
  },
  "language_info": {
   "codemirror_mode": {
    "name": "ipython",
    "version": 3
   },
   "file_extension": ".py",
   "mimetype": "text/x-python",
   "name": "python",
   "nbconvert_exporter": "python",
   "pygments_lexer": "ipython3",
   "version": "3.8.8"
  }
 },
 "nbformat": 4,
 "nbformat_minor": 5
}
