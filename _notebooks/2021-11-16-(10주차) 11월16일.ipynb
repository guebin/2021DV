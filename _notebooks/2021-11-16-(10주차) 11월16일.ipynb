{
 "cells": [
  {
   "cell_type": "markdown",
   "id": "3b6a8d75-a5a2-4c37-8272-5ef5eb913c78",
   "metadata": {
    "tags": []
   },
   "source": [
    "# (노트) 카이로의 The Functional Art (1) \n",
    "\n",
    "- toc:true\n",
    "- branch: master\n",
    "- badges: true\n",
    "- comments: true\n",
    "- author: 신록예찬\n",
    "- hide: false\n",
    "- categories: [시각화]"
   ]
  },
  {
   "cell_type": "markdown",
   "id": "ba110157-b278-4ca9-9f44-696a9306dd1e",
   "metadata": {},
   "source": [
    "### ref "
   ]
  },
  {
   "cell_type": "markdown",
   "id": "c65746bf-6226-4e8c-bec4-c8ead5cd4575",
   "metadata": {},
   "source": [
    "Cairo, A. Functional Art, The: An Introduction to Information Graphics and Visualization, New Riders, 2012. San Francisco, US."
   ]
  },
  {
   "cell_type": "markdown",
   "id": "0b704b93-afc0-40c5-b605-ed996a82a890",
   "metadata": {},
   "source": [
    "`-` 공부한게 너무 아까워서.. "
   ]
  },
  {
   "cell_type": "markdown",
   "id": "646c469a-7117-4b5b-94a9-66c69f8b4da7",
   "metadata": {},
   "source": [
    "`-` 시험보시고 머리좀 식히시라고.. "
   ]
  },
  {
   "cell_type": "markdown",
   "id": "ca93f685-c75e-4eef-a6f0-5dc1b39f5990",
   "metadata": {},
   "source": [
    "`-` 사실 저는 공부가 많이 되었어요.. "
   ]
  },
  {
   "cell_type": "markdown",
   "id": "37e04415-67f0-4f9b-b3e6-e1b93b1a46e2",
   "metadata": {},
   "source": [
    "`-` ((일반적인생각, 카이로의생각) , 제생각)을 나누어서 설명하겠습니다. "
   ]
  },
  {
   "cell_type": "markdown",
   "id": "7de76ce2-22bd-414c-84ed-0304e1361e75",
   "metadata": {},
   "source": [
    "## Intro: Presentation vs Exploration"
   ]
  },
  {
   "cell_type": "markdown",
   "id": "27e6303e-878d-4019-983d-54e64b9e9796",
   "metadata": {},
   "source": [
    "### Presentation "
   ]
  },
  {
   "cell_type": "markdown",
   "id": "793e93e1-396f-4df8-a905-c7ed0adf9c03",
   "metadata": {},
   "source": [
    "![](https://github.com/guebin/2021DV/blob/master/_notebooks/2021-11-16-FIG1.png?raw=true)"
   ]
  },
  {
   "cell_type": "markdown",
   "id": "957b9fad-2b9d-4df8-a7d7-0fe2b3db0899",
   "metadata": {},
   "source": [
    "`-` 프리젠테이션방식의 시각화는 화자가 다듬은 이야기를 전달하기에 좋다. 즉 잘 정리된 메시지를 전달하기에 좋다. "
   ]
  },
  {
   "cell_type": "markdown",
   "id": "d7538a9e-9a8c-4e11-9f03-ff4afdab0f1f",
   "metadata": {},
   "source": [
    "### Exploration "
   ]
  },
  {
   "cell_type": "markdown",
   "id": "1d2f7af1-7b4b-433f-b37c-abde458b9c76",
   "metadata": {},
   "source": [
    "![](https://github.com/guebin/2021DV/blob/master/_notebooks/2021-11-16-FIG2.png?raw=true)"
   ]
  },
  {
   "cell_type": "markdown",
   "id": "0e67066a-65aa-4abc-bdb4-a4ae94bbfc1c",
   "metadata": {},
   "source": [
    "- 문학적유기체라는 작품이다. (아니 무슨 시각화 하나 가지고 작품이라고 표현함) \n",
    "- 어떤 소설책을 시각화. \n",
    "- 수형도 + 칼라 \n",
    "- 수형도의 의미: 단원, 문단, 문장, 단어 (수형도는 계층적 구조를 시각화하기에 뛰어나다. 리그레션트리!) \n",
    "- 색깔: 여행, 음악, 파티 등 소설에서 자주 등장하는 소재 (색은 범주형 자료를 시각화 하는데 뛰어나다) "
   ]
  },
  {
   "cell_type": "markdown",
   "id": "6ec76d23-7ee1-4de0-83c8-97a86968a24d",
   "metadata": {},
   "source": [
    "`-` 익스플로래이션방식은 독자가 스스로 그림에서 메시지를 찾아낸다. "
   ]
  },
  {
   "cell_type": "markdown",
   "id": "e6cec694-938f-4a9f-aef3-8cd211e56129",
   "metadata": {},
   "source": [
    "`-` 소설을 읽어보지 않은 사람: 이 그래픽으로 소설책의 전체 주제를 미리 파악가능 (음~ 이런 주제의 책이군!) "
   ]
  },
  {
   "cell_type": "markdown",
   "id": "d11901ec-7cfd-456e-ab60-92f85f750ea9",
   "metadata": {},
   "source": [
    "`-` 소설을 이미 읽어본사람: 분석 & 탐구를 할수 있음. 파티와 음악이 섞인 단원이 많다 $\\to$ 파티와 음악은 코릴레이션이 있다. (제 생각: 이러한 자료의 코릴레이션을 구하고 시각화하는것 또한 재미있을것 같습니다) "
   ]
  },
  {
   "cell_type": "markdown",
   "id": "48147256-6c0b-4663-9f2c-01605b21e348",
   "metadata": {},
   "source": [
    "### 절충 "
   ]
  },
  {
   "cell_type": "markdown",
   "id": "581081b1-ce1b-4aa6-bd7e-ec3578af4654",
   "metadata": {},
   "source": [
    "`-` 카이로: 사실 프리젠테이션과 익스플로레이션은 절충가능함"
   ]
  },
  {
   "cell_type": "markdown",
   "id": "00b20604-0c4e-429d-8694-b0de62769e1e",
   "metadata": {},
   "source": [
    "![](https://github.com/guebin/2021DV/blob/master/_notebooks/2021-11-16-FIG3.png?raw=true)"
   ]
  },
  {
   "cell_type": "markdown",
   "id": "b849ae8e-838c-4c36-9028-41a66455183f",
   "metadata": {},
   "source": [
    "- x축이 GDP, y축이 불평등 \n",
    "- text: 시간을 표현\n",
    "- 색: 정부\n",
    "- 초록색정부: 소득증가 & 불평등증가 \n",
    "- 갈색정부: 매우 빠른 경제성장 \n",
    "- 포인트간의 간격이 좁다 = 변화가 더디다, 포인트간의 간격이 넓다 = 변화가 빠르다. "
   ]
  },
  {
   "cell_type": "markdown",
   "id": "e859fa75-2411-4fff-abe0-208ae0c91f9e",
   "metadata": {},
   "source": [
    "`-` 언뜻보기에 우리에게 익숙한 라인플랏처럼 보이지만 의외로 정보를 탐색할만한 거리가 있다. "
   ]
  },
  {
   "cell_type": "markdown",
   "id": "30b636a6-ed2d-4036-85dc-41b5a36d9213",
   "metadata": {},
   "source": [
    "`-` 해석이 일반적이지 않아서 어렵다. "
   ]
  },
  {
   "cell_type": "markdown",
   "id": "63084213-7c70-4147-b9f6-fa57e112c330",
   "metadata": {},
   "source": [
    "> 익스플로레이션형의 그래프를 그릴줄 알아야하고 남이 그린 그래프를 해석할수도 있어야함. "
   ]
  },
  {
   "cell_type": "markdown",
   "id": "c4510aea-f7fd-4ac4-bc06-578f38dbd009",
   "metadata": {},
   "source": [
    "## Chapter 1: 왜 시각화를 해야 하는가? "
   ]
  },
  {
   "cell_type": "markdown",
   "id": "af88c640-2c19-44c5-a542-f55f94ea4051",
   "metadata": {},
   "source": [
    "### 인구문제 \n",
    "\n",
    "`-` 주장1: 가난한나라에서 애를 너무 많이 낳음 $\\to$ 세계인구 90억 (현재 70억) \n",
    "\n",
    "`-` 주장2: 잘사는나라에서 애를 적게 낳음 $\\to$ 고령화 문제 "
   ]
  },
  {
   "cell_type": "markdown",
   "id": "0443e771-017b-4c5a-bad7-e25d65266299",
   "metadata": {},
   "source": [
    "### 리들리 \n",
    "\n",
    "`-` 둘다 틀렸다. \n",
    "\n",
    "`-` 가난한나라의 출산율은 점점 감소\n",
    "\n",
    "`-` 잘사는나라의 출산율은 점점 증가 \n",
    "\n",
    "`-` 결국 세계인구는 안정화될것이다. (증가하지도 감소하지도 않는다) \n",
    "\n",
    "`-` 아래의 그림이 바로 그 증거다!"
   ]
  },
  {
   "cell_type": "markdown",
   "id": "37b68952-dcf5-4007-b4bc-7c61a967c98f",
   "metadata": {},
   "source": [
    "![](https://github.com/guebin/2021DV/blob/master/_notebooks/2021-11-16-FIG4.png?raw=true)"
   ]
  },
  {
   "cell_type": "markdown",
   "id": "cacdee63-3b0f-4c3f-99b8-ecdd1b1af03d",
   "metadata": {},
   "source": [
    "### 카이로"
   ]
  },
  {
   "cell_type": "markdown",
   "id": "ac8c2794-549c-4726-a07f-785a012b5354",
   "metadata": {},
   "source": [
    "`-` 메시지를 잘 전달해야한다. "
   ]
  },
  {
   "cell_type": "markdown",
   "id": "147baa6a-81e4-4573-81a5-7f2fe828e24a",
   "metadata": {},
   "source": [
    "![](https://github.com/guebin/2021DV/blob/master/_notebooks/2021-11-16-FIG5.png?raw=true)"
   ]
  },
  {
   "cell_type": "markdown",
   "id": "f51ce8b2-4cf9-4189-8e06-a759bea522e6",
   "metadata": {},
   "source": [
    "### 소감 "
   ]
  },
  {
   "cell_type": "markdown",
   "id": "9ea99451-5007-42ac-81bf-743bd4ccc694",
   "metadata": {},
   "source": [
    "`-` (역설의 상황은 아니지만) 심슨의 역설이 생각나요. "
   ]
  },
  {
   "cell_type": "markdown",
   "id": "00e305e5-ea12-4d1a-a9a5-8b090c02f7d3",
   "metadata": {},
   "source": [
    "`-` 어떠한 현상을 설명할때 그것의 부분집합들 역시 그러한지 살펴보는것이 기본 "
   ]
  },
  {
   "cell_type": "markdown",
   "id": "4aba5261-f1a9-42b7-b025-e003bad6c408",
   "metadata": {},
   "source": [
    "`-` 중요한 부분을 제외한 나머지는 회색처리하는것이 시각적으로 우수함 (일러로 작업) "
   ]
  },
  {
   "cell_type": "markdown",
   "id": "aab00624-5a98-4ea7-ab5b-3c7583a53336",
   "metadata": {},
   "source": [
    "`-` 하지만 과학적 논문작업에 들어가는 그림이라면 다소 마음대로 회색처리하였다고 비판할 수 있어요 "
   ]
  },
  {
   "cell_type": "markdown",
   "id": "fbe421a2-f509-44dd-9f91-88d57f3452d2",
   "metadata": {},
   "source": [
    "### 이 챕터의 흥미로운 그림과 틀린해석 "
   ]
  },
  {
   "cell_type": "markdown",
   "id": "839842b4-d89b-40f8-a6c7-89b8f789cce1",
   "metadata": {},
   "source": [
    "![](https://github.com/guebin/2021DV/blob/master/_notebooks/2021-11-16-FIG6.png?raw=true)"
   ]
  },
  {
   "cell_type": "markdown",
   "id": "c4823919-c16d-4bdd-b072-9c90095e1aa0",
   "metadata": {},
   "source": [
    "![](https://github.com/guebin/2021DV/blob/master/_notebooks/2021-11-16-FIG7.png?raw=true)"
   ]
  },
  {
   "cell_type": "markdown",
   "id": "ca5063ac-aa1e-4bf0-bb3b-9b44a84ae1e6",
   "metadata": {},
   "source": [
    "![](https://github.com/guebin/2021DV/blob/master/_notebooks/2021-11-16-FIG8.png?raw=true)"
   ]
  },
  {
   "cell_type": "markdown",
   "id": "55c60aff-6892-45a0-9a74-5f42197aac0d",
   "metadata": {},
   "source": [
    "![](https://github.com/guebin/2021DV/blob/master/_notebooks/2021-11-16-FIG9.png?raw=true)"
   ]
  },
  {
   "cell_type": "markdown",
   "id": "c9d94b3d-4575-4d3d-9cfe-056efdd9dafd",
   "metadata": {},
   "source": [
    "![](https://github.com/guebin/2021DV/blob/master/_notebooks/2021-11-16-FIG10.png?raw=true)"
   ]
  },
  {
   "cell_type": "markdown",
   "id": "b02db5ca-754e-43e4-a4d2-fcd8908b78fe",
   "metadata": {},
   "source": [
    "![](https://github.com/guebin/2021DV/blob/master/_notebooks/2021-11-16-FIG11.png?raw=true)"
   ]
  },
  {
   "cell_type": "markdown",
   "id": "369de361-9329-4a6b-a13d-554497549f35",
   "metadata": {},
   "source": [
    "![](https://github.com/guebin/2021DV/blob/master/_notebooks/2021-11-16-FIG12.png?raw=true)"
   ]
  },
  {
   "cell_type": "markdown",
   "id": "12b99b6d-3c51-4388-b3f2-1ceb91d7a9d8",
   "metadata": {},
   "source": [
    "![](https://github.com/guebin/2021DV/blob/master/_notebooks/2021-11-16-FIG13.png?raw=true)"
   ]
  },
  {
   "cell_type": "markdown",
   "id": "715d6800-057b-45d5-9e6e-479d39575877",
   "metadata": {},
   "source": [
    "![](https://github.com/guebin/2021DV/blob/master/_notebooks/2021-11-16-FIG14.png?raw=true)"
   ]
  },
  {
   "cell_type": "markdown",
   "id": "1b1d506c-3229-49ea-bdbe-b7a6a98f6a68",
   "metadata": {},
   "source": [
    "![](https://github.com/guebin/2021DV/blob/master/_notebooks/2021-11-16-FIG15.png?raw=true)"
   ]
  },
  {
   "cell_type": "markdown",
   "id": "f8209248-4453-4865-a478-9f59f49f2897",
   "metadata": {},
   "source": [
    "![](https://github.com/guebin/2021DV/blob/master/_notebooks/2021-11-16-FIG16.png?raw=true)"
   ]
  },
  {
   "cell_type": "markdown",
   "id": "9daa0136-0c9c-4fb3-9f22-af57562e971f",
   "metadata": {},
   "source": [
    "![](https://github.com/guebin/2021DV/blob/master/_notebooks/2021-11-16-FIG17.png?raw=true)"
   ]
  },
  {
   "cell_type": "markdown",
   "id": "5d31a923-5e40-4e97-9ffa-e69ec17832bb",
   "metadata": {},
   "source": [
    "![](https://github.com/guebin/2021DV/blob/master/_notebooks/2021-11-16-FIG18.png?raw=true)"
   ]
  },
  {
   "cell_type": "code",
   "execution_count": null,
   "id": "b5870c36-68ff-49b5-a143-873804500859",
   "metadata": {},
   "outputs": [],
   "source": []
  }
 ],
 "metadata": {
  "kernelspec": {
   "display_name": "Python 3",
   "language": "python",
   "name": "python3"
  },
  "language_info": {
   "codemirror_mode": {
    "name": "ipython",
    "version": 3
   },
   "file_extension": ".py",
   "mimetype": "text/x-python",
   "name": "python",
   "nbconvert_exporter": "python",
   "pygments_lexer": "ipython3",
   "version": "3.8.8"
  }
 },
 "nbformat": 4,
 "nbformat_minor": 5
}
