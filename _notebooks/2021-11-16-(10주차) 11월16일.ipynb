{
 "cells": [
  {
   "cell_type": "markdown",
   "id": "cac470df-29e7-4148-9bbd-d8b9a32fa570",
   "metadata": {
    "tags": []
   },
   "source": [
    "# (10주차) 11월16일 \n",
    "> 카이로의 The Functional Art\n",
    "\n",
    "- toc:true\n",
    "- branch: master\n",
    "- badges: true\n",
    "- comments: true\n",
    "- author: 최규빈"
   ]
  },
  {
   "cell_type": "markdown",
   "id": "7476b9b0-eda1-4f9d-b49e-63b0f0fa73c0",
   "metadata": {},
   "source": [
    "### 강의영상 "
   ]
  },
  {
   "cell_type": "markdown",
   "id": "59305da2-f75c-4805-b5ac-b24e772aed74",
   "metadata": {},
   "source": [
    "> youtube: https://youtube.com/playlist?list=PLQqh36zP38-wwuQb7pUgo-iI3__bXnPFU"
   ]
  },
  {
   "cell_type": "markdown",
   "id": "84a9bafc-6d70-4fd6-8a0a-0a250473f7bd",
   "metadata": {},
   "source": [
    "`-` (1/6) Presentation vs Exploration (1) \n",
    "\n",
    "`-` (2/6) Presentation vs Exploration (2) \n",
    "\n",
    "`-` (3/6) 메시지를 뒷받침하는 그림을 그려라, 흥미로운 자료와 틀린 해석 \n",
    "\n",
    "`-` (4/6) 예쁜그림을 그리려다가 메시지가 흐려지지 않도록 주의하라 (1) \n",
    "\n",
    "`-` (5/6) 예쁜그림을 그리려다가 메시지가 흐려지지 않도록 주의하라 (2) \n",
    "\n",
    "`-` (6/6) 예쁜그림을 그리려다가 메시지가 흐려지지 않도록 주의하라 (3) "
   ]
  },
  {
   "cell_type": "markdown",
   "id": "ba110157-b278-4ca9-9f44-696a9306dd1e",
   "metadata": {
    "tags": []
   },
   "source": [
    "### ref "
   ]
  },
  {
   "cell_type": "markdown",
   "id": "c65746bf-6226-4e8c-bec4-c8ead5cd4575",
   "metadata": {},
   "source": [
    "Cairo, A. Functional Art, The: An Introduction to Information Graphics and Visualization, New Riders, 2012. San Francisco, US."
   ]
  },
  {
   "cell_type": "markdown",
   "id": "b58005ba-f91f-40d5-bfeb-8dd955baf017",
   "metadata": {},
   "source": [
    "`-` ((일반적생각, 카이로의 생각), 제 생각)으로 나누어서 설명"
   ]
  },
  {
   "cell_type": "markdown",
   "id": "2a54a8b8-f283-40bf-be0d-34a004ee5ee6",
   "metadata": {},
   "source": [
    "### Presentation vs Exploration "
   ]
  },
  {
   "cell_type": "markdown",
   "id": "6882390f-2b34-4cfc-a9b5-4d42a5786e64",
   "metadata": {},
   "source": [
    "#### Presentation "
   ]
  },
  {
   "cell_type": "markdown",
   "id": "793e93e1-396f-4df8-a905-c7ed0adf9c03",
   "metadata": {},
   "source": [
    "![](https://github.com/guebin/2021DV/blob/master/_notebooks/2021-11-16-FIG1.png?raw=true)"
   ]
  },
  {
   "cell_type": "markdown",
   "id": "034d5b38-ea26-47fa-8394-735c9b4ff3d4",
   "metadata": {},
   "source": [
    "`-` 프리젠테이션방식의 시각화는 화자가 다듬은 이야기를 전달하기에 좋은 시각화이다. 즉 잘 정리된 메시지를 전달하기에 좋다. "
   ]
  },
  {
   "cell_type": "markdown",
   "id": "0aa6b6af-3c46-4d87-a56e-bf3be9a518ed",
   "metadata": {},
   "source": [
    "#### Exploration "
   ]
  },
  {
   "cell_type": "markdown",
   "id": "1d2f7af1-7b4b-433f-b37c-abde458b9c76",
   "metadata": {},
   "source": [
    "![](https://github.com/guebin/2021DV/blob/master/_notebooks/2021-11-16-FIG2.png?raw=true)"
   ]
  },
  {
   "cell_type": "markdown",
   "id": "7ab3c6a8-6916-40a4-85d1-1b88d44ff634",
   "metadata": {},
   "source": [
    "- 문학적유기체라는 작품이다. \n",
    "- 어떤 소설책을 시각화. \n",
    "- 수형도 + 칼라 \n",
    "- 수형도의 의미: 단원, 문단, 문장, 단어 (수형도 계층적 구조를 시각화 하기에 뛰어남. ex: 리그레션트리!) \n",
    "- 색깔: 여행, 음악, 파티 등 소설에서 자주 등장하는 소재 (색은 범주형 변수를 표현하기에 뛰어남) "
   ]
  },
  {
   "cell_type": "markdown",
   "id": "21c0729b-0ec3-4128-9db0-5909959e29bc",
   "metadata": {},
   "source": [
    "`-` 익스플로래이션 방식은 독자가 스스로 그림에서 메시지를 찾아낸다. "
   ]
  },
  {
   "cell_type": "markdown",
   "id": "c0b87cb0-68e5-44c3-9aea-916c04f47102",
   "metadata": {},
   "source": [
    "`-` 소설을 읽어보지 않은 사람: 이 그래픽으로 소설책의 전체 주제를 미리 파악가능 "
   ]
  },
  {
   "cell_type": "markdown",
   "id": "8c3dbd61-8d4e-4518-89b1-40b9d5f862e8",
   "metadata": {},
   "source": [
    "`-` 소설을 이미 읽어본 사람: 분석 & 탐구를 할 수 있음. ex: 파티와 음악이 동시에 등장하는 경우가 많다. "
   ]
  },
  {
   "cell_type": "markdown",
   "id": "b4b72efd-085c-4953-a3f7-4cf93e2c7340",
   "metadata": {},
   "source": [
    "#### 절충  "
   ]
  },
  {
   "cell_type": "markdown",
   "id": "bf6fc76e-16b0-4f9a-8f07-e97857086382",
   "metadata": {},
   "source": [
    "`-` 카이로: 사실 프리젠테이션과 익스플로레이션은 절충가능함 "
   ]
  },
  {
   "cell_type": "markdown",
   "id": "00b20604-0c4e-429d-8694-b0de62769e1e",
   "metadata": {},
   "source": [
    "![](https://github.com/guebin/2021DV/blob/master/_notebooks/2021-11-16-FIG3.png?raw=true)"
   ]
  },
  {
   "cell_type": "markdown",
   "id": "7b1f227b-78c0-42a5-91e3-7778ecc6fe36",
   "metadata": {},
   "source": [
    "- aes(x='GDP',y='불평등',text='년도',color='정부') \n",
    "- 초록색정부: 소득이 증가 & 불평등이 훨씬 더 증가 \n",
    "- 갈색정부: 매우 빠른 경제 성장 \n",
    "- 포인트간의 간격이 조밀하다 = 변화가 더디다 // 포인트간의 간격이 넓다 = 변화가 빠르다. "
   ]
  },
  {
   "cell_type": "markdown",
   "id": "8248ff8e-0830-438e-b8c0-00a1d8b46fd5",
   "metadata": {},
   "source": [
    "`-` 언뜻보기에는 우리에게 익숙한 라인플랏인듯 보이지만 의외로 정보를 해석할만한 요소가 있다. "
   ]
  },
  {
   "cell_type": "markdown",
   "id": "abd80f25-7556-4749-a0a9-73c819f846a1",
   "metadata": {},
   "source": [
    "> 익스플로레이션형의 그래프는 그릴줄도 알아야 하지만 남이 그린 그래프를 해석할 수도 있어야함. "
   ]
  },
  {
   "cell_type": "markdown",
   "id": "374fef0a-7f46-4ce2-858b-2eaffe36da0e",
   "metadata": {},
   "source": [
    "---"
   ]
  },
  {
   "cell_type": "markdown",
   "id": "3dbbc3ee-464e-4112-b546-e012db51d44f",
   "metadata": {},
   "source": [
    "### 메시지를 뒷받침하는 그림을 그려야 한다. "
   ]
  },
  {
   "cell_type": "markdown",
   "id": "8be2c5f3-1c70-4b74-af91-9f9c59917549",
   "metadata": {},
   "source": [
    "#### 인구문제 \n",
    "\n",
    "`-` 주장1: 가난한 나라에서 애를 너무 많이 낳음 $\\to$ 세계인구가 90억까지 증가할 것이다. (현재 70억) \n",
    "\n",
    "`-` 주장2: 잘사는 나라에서는 애를 적게 낳음 $\\to$ 고령화 문제 "
   ]
  },
  {
   "cell_type": "markdown",
   "id": "00a8f738-d99e-42e1-85bc-3ff4d1f02ad4",
   "metadata": {},
   "source": [
    "#### 리들리의 메시지 "
   ]
  },
  {
   "cell_type": "markdown",
   "id": "1eb0af50-1ded-4103-b0b5-bfbcc4d769f3",
   "metadata": {},
   "source": [
    "`-` 둘다 틀렸다. "
   ]
  },
  {
   "cell_type": "markdown",
   "id": "f9fdb7cd-757b-4cea-9596-3be3bf1a61c4",
   "metadata": {},
   "source": [
    "`-` 가난한 나라의 출산율은 점점 감소 "
   ]
  },
  {
   "cell_type": "markdown",
   "id": "cffdb8b2-2bec-4d0d-a874-23605b8453d6",
   "metadata": {},
   "source": [
    "`-` 잘사는 나라의 출산율은 점점 증가 "
   ]
  },
  {
   "cell_type": "markdown",
   "id": "fca931df-bf9d-46e5-a7aa-2e3bb1e011d5",
   "metadata": {},
   "source": [
    "`-` 결국 세계의 인구는 안정화 될 것 (증가하지도 감소하지도 않는다) "
   ]
  },
  {
   "cell_type": "markdown",
   "id": "655924f8-ebce-4bda-a3a1-9d689a7f3953",
   "metadata": {},
   "source": [
    "`-` 아래의 그림이 그 증거이다. "
   ]
  },
  {
   "cell_type": "markdown",
   "id": "dc54c311-7751-40de-9f7f-da13bfe18e90",
   "metadata": {},
   "source": [
    "![](https://github.com/guebin/2021DV/blob/master/_notebooks/2021-11-16-FIG4.png?raw=true)"
   ]
  },
  {
   "cell_type": "markdown",
   "id": "965b0dc8-0138-46c5-ab74-b5be87cebd99",
   "metadata": {},
   "source": [
    "#### 카이로 "
   ]
  },
  {
   "cell_type": "markdown",
   "id": "b4337eeb-9277-466f-9bfe-46222d388073",
   "metadata": {},
   "source": [
    "`-` 리들러의 메시지는 아래의 그림들이 더 잘 전달한다. "
   ]
  },
  {
   "cell_type": "markdown",
   "id": "147baa6a-81e4-4573-81a5-7f2fe828e24a",
   "metadata": {},
   "source": [
    "![](https://github.com/guebin/2021DV/blob/master/_notebooks/2021-11-16-FIG5.png?raw=true)"
   ]
  },
  {
   "cell_type": "markdown",
   "id": "daa5abfc-4ffb-472b-8aed-cb554a721f91",
   "metadata": {},
   "source": [
    "#### 소감 "
   ]
  },
  {
   "cell_type": "markdown",
   "id": "209a2428-0e11-47e4-b1dd-810128acf026",
   "metadata": {},
   "source": [
    "`-` 어떠한 현상을 살펴볼때 그것의 부분집합들이 역시 그러한지 살펴보는것은 기본임"
   ]
  },
  {
   "cell_type": "markdown",
   "id": "079253bb-4647-4ebc-aa75-7ea4e1f24f9a",
   "metadata": {},
   "source": [
    "`-` 중요한 선을 제외한 나머지는 회색처리(일러스트레이터 사용) 한 것이 시각적으로 우수하며, 인상적이었음 "
   ]
  },
  {
   "cell_type": "markdown",
   "id": "bcbd685b-35c2-4625-8785-0134a69ad8a5",
   "metadata": {},
   "source": [
    "`-` 과학적인 논문작업에 들어갈 그림이라면 임의로 회색처리한 것이 다소 비판을 받을 수 있음. "
   ]
  },
  {
   "cell_type": "markdown",
   "id": "f9614ae9-920a-4cf6-a5e1-e568d3c7cb88",
   "metadata": {},
   "source": [
    "---"
   ]
  },
  {
   "cell_type": "markdown",
   "id": "e2efa8bf-fdf3-4795-ab7c-09d69b1f11f0",
   "metadata": {},
   "source": [
    "### 흥미로운 자료와 틀린해석 "
   ]
  },
  {
   "cell_type": "markdown",
   "id": "839842b4-d89b-40f8-a6c7-89b8f789cce1",
   "metadata": {},
   "source": [
    "![](https://github.com/guebin/2021DV/blob/master/_notebooks/2021-11-16-FIG6.png?raw=true)"
   ]
  },
  {
   "cell_type": "markdown",
   "id": "5fc9c202-9f42-45f7-babc-9ffa20b464fc",
   "metadata": {},
   "source": [
    "- Left: aes(x='출산율', y='수입') \n",
    "- Right: aes(x='출산율', y='전체 중학생중 여학생이 차지하는 비율') "
   ]
  },
  {
   "cell_type": "markdown",
   "id": "df0ac8de-36a8-49e7-b093-f7dd61631e79",
   "metadata": {},
   "source": [
    "`-` 해설: 당신이 부자가 될수록 당신은 더 적은 아이를 가질 것이다. 중학교에 진학하는 여성이 적을수록 아이를 많이 낳는다. (그림밑에 주석을 해석)"
   ]
  },
  {
   "cell_type": "markdown",
   "id": "a6c0440b-87db-4c20-b64f-3d67b6eccd44",
   "metadata": {},
   "source": [
    "`-` 여학생들을 중학교에 보내지 않으면 출산율이 올라가나요??? "
   ]
  },
  {
   "cell_type": "markdown",
   "id": "b9ac47b8-38bd-41ed-b8f3-82f548ac16f9",
   "metadata": {},
   "source": [
    "---"
   ]
  },
  {
   "cell_type": "markdown",
   "id": "44573724-c7b3-4e43-a9ab-277c6449bead",
   "metadata": {},
   "source": [
    "### 예쁜그림을 그리려다가 메시지가 흐려지지 않도록 주의하라 (1) "
   ]
  },
  {
   "cell_type": "markdown",
   "id": "4de18cfd-fa1c-46d0-bd7f-d070b85ebac3",
   "metadata": {},
   "source": [
    "`-` 아래는 남미국가들의 국방력을 시각화한 그림 "
   ]
  },
  {
   "cell_type": "markdown",
   "id": "c4823919-c16d-4bdd-b072-9c90095e1aa0",
   "metadata": {},
   "source": [
    "![](https://github.com/guebin/2021DV/blob/master/_notebooks/2021-11-16-FIG7.png?raw=true)"
   ]
  },
  {
   "cell_type": "markdown",
   "id": "df04389c-04ce-4ab4-82be-6a5ad5525253",
   "metadata": {},
   "source": [
    "- 쓸모없는 그래픽\n",
    "- 뭐 기억나는 것이 있나요? "
   ]
  },
  {
   "cell_type": "markdown",
   "id": "acdd0ccd-36bb-4f29-a582-b146b0bd16e8",
   "metadata": {},
   "source": [
    "`-` 아래가 더 우수한 그림이다. 더 정확한 비교를 할 수 있어요. "
   ]
  },
  {
   "cell_type": "markdown",
   "id": "ca5063ac-aa1e-4bf0-bb3b-9b44a84ae1e6",
   "metadata": {},
   "source": [
    "![](https://github.com/guebin/2021DV/blob/master/_notebooks/2021-11-16-FIG8.png?raw=true)"
   ]
  },
  {
   "cell_type": "markdown",
   "id": "ee7a5765-2263-4054-87e3-db9e31bdbfbc",
   "metadata": {},
   "source": [
    "`-` 그리고 위의 그림보다 아래의 그림이 더 우수한 시각화이다. "
   ]
  },
  {
   "cell_type": "markdown",
   "id": "55c60aff-6892-45a0-9a74-5f42197aac0d",
   "metadata": {},
   "source": [
    "![](https://github.com/guebin/2021DV/blob/master/_notebooks/2021-11-16-FIG9.png?raw=true)"
   ]
  },
  {
   "cell_type": "markdown",
   "id": "7135e1ac-56bd-4311-b58c-76acf0edd93f",
   "metadata": {},
   "source": [
    "- 일단 하이라이팅이 우아하네요.. (제가 시험문제 잘못낸 것 같아요) \n",
    "- 브라질이 국방력도 우수하고 예산도 많이 투자하는 것 같지만 인구가 흑막인것 같다. "
   ]
  },
  {
   "cell_type": "markdown",
   "id": "20c2fc1a-2d76-44de-a184-b1c8130ef69c",
   "metadata": {},
   "source": [
    "`-` 흑막을 제거 "
   ]
  },
  {
   "cell_type": "markdown",
   "id": "c9d94b3d-4575-4d3d-9cfe-056efdd9dafd",
   "metadata": {},
   "source": [
    "![](https://github.com/guebin/2021DV/blob/master/_notebooks/2021-11-16-FIG10.png?raw=true)"
   ]
  },
  {
   "cell_type": "markdown",
   "id": "fd24c74a-6cc3-4dc7-87d1-ffcb5ab24c6b",
   "metadata": {},
   "source": [
    "`-` 최종적으로 제안하는 그래프 "
   ]
  },
  {
   "cell_type": "markdown",
   "id": "b02db5ca-754e-43e4-a4d2-fcd8908b78fe",
   "metadata": {},
   "source": [
    "![](https://github.com/guebin/2021DV/blob/master/_notebooks/2021-11-16-FIG11.png?raw=true)"
   ]
  },
  {
   "cell_type": "markdown",
   "id": "c553dd56-c820-4b4f-a098-946bfe62e729",
   "metadata": {},
   "source": [
    "- 좌측하단: aes(x='인구', y='군인수', size='예산') \n",
    "- 우측하단: 관심있는 그래프가 아님 "
   ]
  },
  {
   "cell_type": "markdown",
   "id": "b0874e19-0ff8-4085-890c-662d56beea4f",
   "metadata": {},
   "source": [
    "#### 사실 저는 좌측하단의 그래프가 좋은 시각화라고 생각안해요 "
   ]
  },
  {
   "cell_type": "markdown",
   "id": "21f622ff-1ec9-4c36-81b0-8493bd4f74d0",
   "metadata": {},
   "source": [
    "`-` 1사분면의 의미: 인구도 높고 군인수도 많은 나라 (똑같은 정보임 의미가 없다. 마치 x축이 토익점수, y축이 텝스점수 같은느낌임) \n",
    "- 모든 점들이 직선에 몰려있다면? $\\to$ 왜 2차원으로 표현함? "
   ]
  },
  {
   "cell_type": "markdown",
   "id": "b57d965c-39d5-4a5e-946a-4b9061824e76",
   "metadata": {},
   "source": [
    "`-` 저같으면 aes(x='예산(인구효과제거)', y='군인수(인구효과제거)',size='인구')로 할것 같아요. \n",
    "- 1사분면의 의미: 예산도 많이 쓰고 군인수도 많은나라 = 콜롬비아. \n",
    "- 4사분면의 의미: 예산은 많이 쓰는데 군인수가 적은나라 = 브라질 "
   ]
  },
  {
   "cell_type": "markdown",
   "id": "b55f09dd-11e4-4f77-82f1-cec60befa8a7",
   "metadata": {},
   "source": [
    "`-` 산점도에서 데이터를 한눈에 파악하고 특징을 요약하기 위해서는 X,Y를 너무 비슷한 성질의 변수로 설정하지마라. "
   ]
  },
  {
   "cell_type": "markdown",
   "id": "1930449b-87d1-4423-b20b-b1472cfb17f1",
   "metadata": {},
   "source": [
    "아래중 어떤것이 더 바람직한 그래프인가? \n",
    "\n",
    "- aes(x='토익', y='텝스', color='합/불', shape='회사의종류') \n",
    "- aes(x='토익', y='GPA', color='합/불', shape='회사의종류') "
   ]
  },
  {
   "cell_type": "markdown",
   "id": "2ae15749-a0e2-4434-af76-decaeb4ddcf7",
   "metadata": {},
   "source": [
    "---"
   ]
  },
  {
   "cell_type": "markdown",
   "id": "64debf25-6415-4f43-9848-7356e6475348",
   "metadata": {},
   "source": [
    "### 예쁜그림을 그리려다가 메시지가 흐려지지 않도록 주의하라 (2)"
   ]
  },
  {
   "cell_type": "markdown",
   "id": "369de361-9329-4a6b-a13d-554497549f35",
   "metadata": {},
   "source": [
    "![](https://github.com/guebin/2021DV/blob/master/_notebooks/2021-11-16-FIG12.png?raw=true)"
   ]
  },
  {
   "cell_type": "markdown",
   "id": "496c3839-c8b8-4bb2-8834-d3350c79c142",
   "metadata": {},
   "source": [
    "- 명암으로 왜 크기비교를 하는것인가? "
   ]
  },
  {
   "cell_type": "markdown",
   "id": "22d8d057-83e3-4a64-80b2-679efb42a91c",
   "metadata": {},
   "source": [
    "`-` 비교를 위해서는 바플랏이 더 우수하다. "
   ]
  },
  {
   "cell_type": "markdown",
   "id": "12b99b6d-3c51-4388-b3f2-1ceb91d7a9d8",
   "metadata": {},
   "source": [
    "![](https://github.com/guebin/2021DV/blob/master/_notebooks/2021-11-16-FIG13.png?raw=true)"
   ]
  },
  {
   "cell_type": "markdown",
   "id": "e8849186-cd1d-4e30-9ae6-0a9690341e5a",
   "metadata": {},
   "source": [
    "--- "
   ]
  },
  {
   "cell_type": "markdown",
   "id": "03441345-e9cd-47d6-acba-e9116baf70c6",
   "metadata": {},
   "source": [
    "### 예쁜그림을 그리려다가 메시지가 흐려지지 않도록 주의하라 (3): 버블의 유행 "
   ]
  },
  {
   "cell_type": "markdown",
   "id": "4f5c0855-cd5a-419a-9dd2-f3128b0f5a9f",
   "metadata": {},
   "source": [
    "`-` 카이로교수님의 강의자료에 등장하는 그림 "
   ]
  },
  {
   "cell_type": "markdown",
   "id": "3256ba98-84c2-45df-bc65-7d20fac57fd3",
   "metadata": {},
   "source": [
    "`-` 회색이 befor, 검은색이 after "
   ]
  },
  {
   "cell_type": "markdown",
   "id": "715d6800-057b-45d5-9e6e-479d39575877",
   "metadata": {},
   "source": [
    "![](https://github.com/guebin/2021DV/blob/master/_notebooks/2021-11-16-FIG14.png?raw=true)"
   ]
  },
  {
   "cell_type": "markdown",
   "id": "293ce5e4-d4f2-4f9a-bd21-71cd0d984fa2",
   "metadata": {},
   "source": [
    "- 크기비교는 바플랏으로 하는것이 아니다. "
   ]
  },
  {
   "cell_type": "markdown",
   "id": "e68365f6-31f6-4a60-a7c3-3395514c57da",
   "metadata": {},
   "source": [
    "`-` 우리눈은 작원원이 큰원의 절반정도 차지한다고 느껴진다. "
   ]
  },
  {
   "cell_type": "markdown",
   "id": "1b1d506c-3229-49ea-bdbe-b7a6a98f6a68",
   "metadata": {},
   "source": [
    "![](https://github.com/guebin/2021DV/blob/master/_notebooks/2021-11-16-FIG15.png?raw=true)"
   ]
  },
  {
   "cell_type": "markdown",
   "id": "28602c63-3049-468d-84c0-721e78fc8742",
   "metadata": {},
   "source": [
    "`-` 그렇지만 실제로는 아래와 같음 "
   ]
  },
  {
   "cell_type": "markdown",
   "id": "f8209248-4453-4865-a478-9f59f49f2897",
   "metadata": {},
   "source": [
    "![](https://github.com/guebin/2021DV/blob/master/_notebooks/2021-11-16-FIG16.png?raw=true)"
   ]
  },
  {
   "cell_type": "markdown",
   "id": "016a2953-e747-4bfc-af37-3bb22095f9e2",
   "metadata": {},
   "source": [
    "`-` 버블차트는 크기를 왜곡시킨다. "
   ]
  },
  {
   "cell_type": "markdown",
   "id": "287c2cf3-a89b-48a5-9e3c-daf49a0a059b",
   "metadata": {},
   "source": [
    "--- "
   ]
  },
  {
   "cell_type": "markdown",
   "id": "5740ad38-3a15-4ad1-8dc6-311855f638d3",
   "metadata": {},
   "source": [
    "`-` 하지만 아래의 버블차트는 우수하다. "
   ]
  },
  {
   "cell_type": "markdown",
   "id": "9daa0136-0c9c-4fb3-9f22-af57562e971f",
   "metadata": {},
   "source": [
    "![](https://github.com/guebin/2021DV/blob/master/_notebooks/2021-11-16-FIG17.png?raw=true)"
   ]
  },
  {
   "cell_type": "markdown",
   "id": "3ade064d-b449-4d21-a2ff-6408aba48dd8",
   "metadata": {},
   "source": [
    "`-` 선거지도는 수치비교에 별로 관심이 없다. "
   ]
  },
  {
   "cell_type": "markdown",
   "id": "4a4d1b0e-4806-4065-9d11-cdd3f82376cf",
   "metadata": {},
   "source": [
    "`-` 대신에 민주당표와 공화당표가 어떤 지역에 몰렸는지 파악하는 것이중요 "
   ]
  },
  {
   "cell_type": "markdown",
   "id": "11936985-5656-4d28-9bc7-bb49e7b5f760",
   "metadata": {},
   "source": [
    "`-` 따라서 aes중 가장 중요한 x,y를 모두 지역에 투자함 "
   ]
  },
  {
   "cell_type": "markdown",
   "id": "ee444bf8-a890-4841-bd85-02ac37b1778e",
   "metadata": {},
   "source": [
    "---"
   ]
  },
  {
   "cell_type": "markdown",
   "id": "78e86c62-126d-423e-8f0e-283b03336b91",
   "metadata": {},
   "source": [
    "### 라인플랏, 바플랏, 산점도 "
   ]
  },
  {
   "cell_type": "markdown",
   "id": "728f6602-baf1-4453-a435-8d78ab715a7a",
   "metadata": {},
   "source": [
    "`-` 시간경과에 따른 변화를 보여주고 싶으면 라인플랏, 비교를 하고 싶다면 바플랏, 관계를 알고싶다면 산점도. "
   ]
  },
  {
   "cell_type": "markdown",
   "id": "5d31a923-5e40-4e97-9ffa-e69ec17832bb",
   "metadata": {},
   "source": [
    "![](https://github.com/guebin/2021DV/blob/master/_notebooks/2021-11-16-FIG18.png?raw=true)"
   ]
  }
 ],
 "metadata": {
  "kernelspec": {
   "display_name": "Python 3 (ipykernel)",
   "language": "python",
   "name": "python3"
  },
  "language_info": {
   "codemirror_mode": {
    "name": "ipython",
    "version": 3
   },
   "file_extension": ".py",
   "mimetype": "text/x-python",
   "name": "python",
   "nbconvert_exporter": "python",
   "pygments_lexer": "ipython3",
   "version": "3.8.12"
  }
 },
 "nbformat": 4,
 "nbformat_minor": 5
}
